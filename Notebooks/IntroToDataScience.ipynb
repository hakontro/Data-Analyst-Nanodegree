{
 "cells": [
  {
   "cell_type": "code",
   "execution_count": 42,
   "metadata": {
    "collapsed": false
   },
   "outputs": [
    {
     "ename": "ImportError",
     "evalue": "No module named scipy",
     "output_type": "error",
     "traceback": [
      "\u001b[1;31m---------------------------------------------------------------------------\u001b[0m",
      "\u001b[1;31mImportError\u001b[0m                               Traceback (most recent call last)",
      "\u001b[1;32m<ipython-input-42-9b3ee17cc57a>\u001b[0m in \u001b[0;36m<module>\u001b[1;34m()\u001b[0m\n\u001b[0;32m      1\u001b[0m \u001b[1;32mimport\u001b[0m \u001b[0mpandas\u001b[0m \u001b[1;32mas\u001b[0m \u001b[0mpd\u001b[0m\u001b[1;33m\u001b[0m\u001b[0m\n\u001b[0;32m      2\u001b[0m \u001b[1;32mimport\u001b[0m \u001b[0mnumpy\u001b[0m \u001b[1;32mas\u001b[0m \u001b[0mnp\u001b[0m\u001b[1;33m\u001b[0m\u001b[0m\n\u001b[1;32m----> 3\u001b[1;33m \u001b[1;32mimport\u001b[0m \u001b[0mscipy\u001b[0m\u001b[1;33m\u001b[0m\u001b[0m\n\u001b[0m\u001b[0;32m      4\u001b[0m \u001b[1;31m#Lesson 3\u001b[0m\u001b[1;33m\u001b[0m\u001b[1;33m\u001b[0m\u001b[0m\n\u001b[0;32m      5\u001b[0m \u001b[1;31m#Calculating nu and t\u001b[0m\u001b[1;33m\u001b[0m\u001b[1;33m\u001b[0m\u001b[0m\n",
      "\u001b[1;31mImportError\u001b[0m: No module named scipy"
     ]
    }
   ],
   "source": [
    "import pandas as pd\n",
    "import numpy as np\n",
    "import scipy\n",
    "#Lesson 3\n",
    "#Calculating nu and t\n",
    "df = {'Sample 1':pd.Series([150,.299,.05], index=['N','mu','var']),\n",
    "       'Sample 2':pd.Series([165,.307,.08], index=['N','mu','var'] )}\n",
    "data = pd.DataFrame(df)\n",
    "# Do Welch's two sample t-test\n",
    "t = (data['Sample 1']['mu']-data['Sample 2']['mu'])/np.sqrt( (data['Sample 1']['var']/data['Sample 1']['N']) \n",
    "              +(data['Sample 2']['var']/data['Sample 2']['N'])   )\n",
    "print \"T equals: \"\n",
    "print t\n",
    "\n",
    "s1 = data['Sample 1']['var']\n",
    "s2 = data['Sample 2']['var']\n",
    "N1 = data['Sample 1']['N']\n",
    "N2 = data['Sample 2']['N']\n",
    "\n",
    "nunum = ( (s1/N1) + (s2/N2))**2\n",
    "nudem =( (s1**2)/(N1**2*(N1-1)) + (s2**2)/(N2**2*(N2-1)) )\n",
    "print \"nu equals\"\n",
    "print nunum/nudem\n",
    "\n",
    "scipy.stats.ttest_ind()"
   ]
  },
  {
   "cell_type": "code",
   "execution_count": null,
   "metadata": {
    "collapsed": true
   },
   "outputs": [],
   "source": []
  }
 ],
 "metadata": {
  "kernelspec": {
   "display_name": "Python 2",
   "language": "python",
   "name": "python2"
  },
  "language_info": {
   "codemirror_mode": {
    "name": "ipython",
    "version": 2
   },
   "file_extension": ".py",
   "mimetype": "text/x-python",
   "name": "python",
   "nbconvert_exporter": "python",
   "pygments_lexer": "ipython2",
   "version": "2.7"
  }
 },
 "nbformat": 4,
 "nbformat_minor": 0
}
