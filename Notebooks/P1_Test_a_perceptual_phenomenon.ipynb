{
 "cells": [
  {
   "cell_type": "markdown",
   "metadata": {},
   "source": [
    "# Project 1: Testing a perceptual phenomenon\n",
    "## The stroop test\n",
    "\n",
    "\n",
    "### Q1: What is our independent variable? What is our dependent variable?\n",
    "#### Our independent variable is whether or not the color of the words match the meaning of the word.\n",
    "#### Our dependent variable is the time it takes a certain user to complete the test.\n",
    "\n",
    "\n",
    "### Q2: What is an appropriate set of hypotheses for this task? What kind of statistical test do you expect to perform? Justify your choices.\n",
    "#### An appropriate set of hyptheses for this task could be that there's some noticeable difference in how people perform on the two different tests on average. For example one might assume that people in general spend more time on the incongruent words.\n",
    "#### Also, we can assume that the means are normally distributed! =)\n",
    "#### To state this as a hypothesis test: \n",
    "###H_0: mean(Congruent) = mean(Incongruent)\n",
    "###H_1: mean(Congruent != mean(Incongruent)"
   ]
  },
  {
   "cell_type": "markdown",
   "metadata": {},
   "source": [
    "###Q3: Report some descriptive statistics regarding this dataset. Include at least one measure of central tendency and at least one measure of variability."
   ]
  },
  {
   "cell_type": "code",
   "execution_count": 40,
   "metadata": {
    "collapsed": false
   },
   "outputs": [
    {
     "name": "stdout",
     "output_type": "stream",
     "text": [
      "Populating the interactive namespace from numpy and matplotlib\n"
     ]
    }
   ],
   "source": [
    "# Causes plots to display within the notebook rather than in a new window\n",
    "%pylab inline"
   ]
  },
  {
   "cell_type": "code",
   "execution_count": 41,
   "metadata": {
    "collapsed": false
   },
   "outputs": [
    {
     "name": "stdout",
     "output_type": "stream",
     "text": [
      "The means of the two distrbutions are: \n",
      "Congruent      14.051125\n",
      "Incongruent    22.015917\n",
      "dtype: float64\n",
      "The corrected sample standard deviations of the two distributions are: \n",
      "Congruent      3.559358\n",
      "Incongruent    4.797057\n",
      "dtype: float64\n",
      "The standard errors of the two distributions are: \n",
      "Congruent      1.779679\n",
      "Incongruent    2.398529\n",
      "dtype: float64\n"
     ]
    }
   ],
   "source": [
    "import pandas as pd\n",
    "path = 'C:\\Users\\hakon.tromborg\\Data Analyst Nanodegree\\Data\\stroopdata.csv'\n",
    "data = pd.read_csv(path)\n",
    "means = data.mean()\n",
    "std = data.std(0)\n",
    "stderr = data.std(0)/data.shape[1]\n",
    "\n",
    "print \"The means of the two distrbutions are: \"\n",
    "print means\n",
    "print \"The corrected sample standard deviations of the two distributions are: \"\n",
    "print std\n",
    "print \"The standard errors of the two distributions are: \"\n",
    "print stderr"
   ]
  },
  {
   "cell_type": "markdown",
   "metadata": {},
   "source": [
    "### Q4: Provide one or two visualizations that show the distribution of the sample data. Write one or two sentences noting what you observe about the plot or plots."
   ]
  },
  {
   "cell_type": "code",
   "execution_count": 42,
   "metadata": {
    "collapsed": false
   },
   "outputs": [
    {
     "data": {
      "image/png": "[encoded data removed]",
      "text/plain": [
       "<matplotlib.figure.Figure at 0xab30390>"
      ]
     },
     "metadata": {},
     "output_type": "display_data"
    },
    {
     "data": {
      "image/png": "[encoded data removed]",
      "text/plain": [
       "<matplotlib.figure.Figure at 0xcec2358>"
      ]
     },
     "metadata": {},
     "output_type": "display_data"
    }
   ],
   "source": [
    "import matplotlib.pyplot as plt\n",
    "import numpy as np\n",
    "import matplotlib.mlab as mlab\n",
    "\n",
    "fig = plt.figure\n",
    "\n",
    "\n",
    "plt.plot(data['Congruent'],'bo',label=\"Congruent\")\n",
    "plt.plot(data['Incongruent'],'ro',label=\"Incongruent\")\n",
    "plt.legend(loc='upper right')\n",
    "\n",
    "plt.xlabel('Participant number')\n",
    "plt.ylabel('Test result')\n",
    "\n",
    "plt.title('Presenting congruent vs incongruent data')\n",
    "\n",
    "plt.show()\n",
    "\n",
    "bins = np.linspace(0,35,50)\n",
    "plt.hist(data['Congruent'],bins,alpha=0.5,label='Congruent')\n",
    "plt.hist(data['Incongruent'],bins,alpha=0.5,label='Incongruent')\n",
    "plt.legend(loc='upper right')\n",
    "plt.show()"
   ]
  },
  {
   "cell_type": "markdown",
   "metadata": {},
   "source": [
    "#### From the first plot, we see that the result is better when shown the congruent test, for all subjects.\n",
    "#### The histogram at the bottom also demonstrates that in general, the test result is better (faster) when the text and color are congruent.\n",
    "#### Note: I would love some feedback on some better graphs to visualize the difference here"
   ]
  },
  {
   "cell_type": "markdown",
   "metadata": {},
   "source": [
    "###Q5: Now, perform the statistical test and report your results. What is your confidence level and your critical statistic value? Do you reject the null hypothesis or fail to reject it? Come to a conclusion in terms of the experiment task. Did the results match up with your expectations?\n",
    "\n",
    "#### Our point estimate is the mean of the Incongruent set, which is 22.01.\n",
    "#### We can calculate the Z-score of this point estimate without much trouble!"
   ]
  },
  {
   "cell_type": "code",
   "execution_count": 43,
   "metadata": {
    "collapsed": false
   },
   "outputs": [
    {
     "name": "stdout",
     "output_type": "stream",
     "text": [
      "The Z score is:\n",
      "4.47540919539\n"
     ]
    }
   ],
   "source": [
    "Z_score = (means[1]-means[0])/stderr[0]\n",
    "print \"The Z score is:\" \n",
    "print Z_score"
   ]
  },
  {
   "cell_type": "markdown",
   "metadata": {},
   "source": [
    "#### 4.475 is a pretty high z-score, so that's promising ! It's literally off the charts, about 1 in 255,000. "
   ]
  },
  {
   "cell_type": "code",
   "execution_count": 44,
   "metadata": {
    "collapsed": false
   },
   "outputs": [
    {
     "name": "stdout",
     "output_type": "stream",
     "text": [
      "The 95% confidence interval is: \n",
      "18.5277458682\n",
      "25.5040874652\n"
     ]
    }
   ],
   "source": [
    "print \"The 95% confidence interval is: \"\n",
    "print means[1]-1.96*stderr[0]\n",
    "print means[1]+1.96*stderr[0]"
   ]
  },
  {
   "cell_type": "markdown",
   "metadata": {},
   "source": [
    "##### Naturally, the confidence interval is also way outside of the interval for the Congruent data set.\n",
    "#### We even have a critical value p<0.001. That's pretty decent evidence!\n",
    "#### Given our results, it is extremely unlikely that the mean of the two distributions are the same and so\n",
    "##H_0: Rejected!\n",
    "\n",
    "#### In conclusion, it seems that individuals take more timeidentifying the color of a word when the letters spell a different color.\n",
    "#### It's also likely, given that all of the 25 individuals spent more time identifying the incongruent words than the congruent words.\n",
    "#### Being familiar with the concept from before, this was as I expected."
   ]
  },
  {
   "cell_type": "code",
   "execution_count": null,
   "metadata": {
    "collapsed": true
   },
   "outputs": [],
   "source": []
  }
 ],
 "metadata": {
  "kernelspec": {
   "display_name": "Python 2",
   "language": "python",
   "name": "python2"
  },
  "language_info": {
   "codemirror_mode": {
    "name": "ipython",
    "version": 2
   },
   "file_extension": ".py",
   "mimetype": "text/x-python",
   "name": "python",
   "nbconvert_exporter": "python",
   "pygments_lexer": "ipython2",
   "version": "2.7"
  }
 },
 "nbformat": 4,
 "nbformat_minor": 0
}
