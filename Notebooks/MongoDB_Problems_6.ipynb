{
 "cells": [
  {
   "cell_type": "code",
   "execution_count": null,
   "metadata": {
    "collapsed": true
   },
   "outputs": [],
   "source": [
    "#Iterative Parsing\n",
    "def count_tags(filename):\n",
    "        d = {}\n",
    "        for event, elem in ET.iterparse(filename):\n",
    "            if not (elem.tag in d):\n",
    "                d[elem.tag] = 1\n",
    "            else:\n",
    "                d[elem.tag] += 1\n",
    "        print d\n",
    "        return d"
   ]
  },
  {
   "cell_type": "code",
   "execution_count": null,
   "metadata": {
    "collapsed": true
   },
   "outputs": [],
   "source": [
    "#Tag Types\n",
    "def key_type(element, keys):\n",
    "    if element.tag == \"tag\":\n",
    "        for e in element.iter(\"tag\"):\n",
    "            key = e.attrib['k']\n",
    "            if not (lower.search(key) == None):\n",
    "                keys['lower'] += 1\n",
    "            elif not (lower_colon.search(key) == None):\n",
    "                keys['lower_colon'] += 1\n",
    "            elif not (problemchars.search(key) == None):\n",
    "                keys['problemchars'] +=1\n",
    "            else:\n",
    "                keys['other'] += 1\n",
    "    return keys"
   ]
  },
  {
   "cell_type": "code",
   "execution_count": null,
   "metadata": {
    "collapsed": true
   },
   "outputs": [],
   "source": [
    "#Exploring Users\n",
    "def process_map(filename):\n",
    "    users = set()\n",
    "    for _, element in ET.iterparse(filename):\n",
    "        if 'uid' in element.attrib:\n",
    "            users.add(element.attrib['uid'])\n",
    "    return users"
   ]
  },
  {
   "cell_type": "code",
   "execution_count": null,
   "metadata": {
    "collapsed": true
   },
   "outputs": [],
   "source": [
    "#Improving Street Names\n",
    "# UPDATE THIS VARIABLE\n",
    "mapping = { \"St\": \"Street\",\n",
    "            \"St.\": \"Street\",\n",
    "            \"Ave\": \"Avenue\",\n",
    "            \"Rd.\": \"Road\"\n",
    "            }\n",
    "\n",
    "\n",
    "def audit_street_type(street_types, street_name):\n",
    "    m = street_type_re.search(street_name)\n",
    "    if m:\n",
    "        street_type = m.group()\n",
    "        if street_type not in expected:\n",
    "            street_types[street_type].add(street_name)"
   ]
  },
  {
   "cell_type": "code",
   "execution_count": null,
   "metadata": {
    "collapsed": true
   },
   "outputs": [],
   "source": [
    "#Preparing For Database\n",
    "def shape_element(element):\n",
    "    node = {}\n",
    "    \n",
    "    node['created'] = {}\n",
    "    node['pos'] = [\"0\",\"0\"]\n",
    "    if element.tag == \"node\" or element.tag == \"way\" :\n",
    "        node['type'] = element.tag\n",
    "        \n",
    "        if element.tag == \"way\":\n",
    "            node['node_refs'] = []\n",
    "            for it in element.iter(\"nd\"):\n",
    "                node['node_refs'].append(it.attrib['ref'])\n",
    "\n",
    "        for a in element.attrib:\n",
    "            if a in [\"version\",\"changeset\",\"timestamp\",\"user\",\"uid\"]:\n",
    "                node['created'][a] = element.attrib[a]\n",
    "            elif a == \"lat\":\n",
    "                node['pos'][0]=(float(element.attrib[a]))\n",
    "            elif a == \"lon\":\n",
    "                node['pos'][1]=(float(element.attrib[a]))\n",
    "            else:\n",
    "                node[a] = element.attrib[a]\n",
    "        for it in element.iter(\"tag\"):\n",
    "            #Avoid problematic characters in the string\n",
    "            e = problemchars.search(it.attrib['k'])\n",
    "            if e:\n",
    "                continue\n",
    "            elif it.attrib['k'][:5] == \"addr:\":\n",
    "                if 'address' not in node:\n",
    "                    node['address'] = {}\n",
    "                c = it.attrib['k'].split(':')\n",
    "                if len(c) == 2:\n",
    "                    node['address'][it.attrib['k'][5:]] = it.attrib['v']\n",
    "            else:\n",
    "                node[it.attrib['k']] = it.attrib['v']\n",
    "        return node\n",
    "    else:\n",
    "        return None"
   ]
  }
 ],
 "metadata": {
  "kernelspec": {
   "display_name": "Python 2",
   "language": "python",
   "name": "python2"
  },
  "language_info": {
   "codemirror_mode": {
    "name": "ipython",
    "version": 2
   },
   "file_extension": ".py",
   "mimetype": "text/x-python",
   "name": "python",
   "nbconvert_exporter": "python",
   "pygments_lexer": "ipython2",
   "version": "2.7.10"
  }
 },
 "nbformat": 4,
 "nbformat_minor": 0
}
