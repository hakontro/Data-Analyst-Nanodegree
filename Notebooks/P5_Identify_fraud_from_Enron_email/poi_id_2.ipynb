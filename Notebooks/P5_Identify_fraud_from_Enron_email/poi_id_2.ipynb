{
 "cells": [
  {
   "cell_type": "code",
   "execution_count": 297,
   "metadata": {
    "collapsed": true
   },
   "outputs": [],
   "source": [
    "#!/usr/bin/python\n",
    "\n",
    "import sys\n",
    "import pickle\n",
    "import numpy as np\n",
    "import matplotlib.pyplot as plt\n",
    "from sklearn.naive_bayes import GaussianNB\n",
    "from sklearn import tree\n",
    "from sklearn.svm import SVC\n",
    "from sklearn.ensemble import AdaBoostClassifier,RandomForestClassifier\n",
    "from sklearn.pipeline import Pipeline\n",
    "from sklearn import grid_search\n",
    "from sklearn.cross_validation import StratifiedShuffleSplit\n",
    "from sklearn.decomposition import PCA\n",
    "from sklearn.preprocessing import MinMaxScaler\n",
    "sys.path.append(\"../tools/\")\n",
    "\n",
    "from feature_format import featureFormat, targetFeatureSplit\n",
    "from tester import dump_classifier_and_data\n",
    "\n",
    "%matplotlib inline"
   ]
  },
  {
   "cell_type": "code",
   "execution_count": 298,
   "metadata": {
    "collapsed": false
   },
   "outputs": [],
   "source": [
    "### Task 1: Select what features to use\n",
    "\n",
    "### Initially, select them all for passing to SelectKBest\n",
    "features_list = ['poi','salary','to_messages','deferral_payments',\n",
    "                  'total_payments','exercised_stock_options',\n",
    "                  'bonus','restricted_stock','shared_receipt_with_poi',\n",
    "                  'restricted_stock_deferred','total_stock_value',\n",
    "                  'expenses','loan_advances','from_messages',\n",
    "                  'other','from_this_person_to_poi',\n",
    "                  'director_fees', 'deferred_income','long_term_incentive',\n",
    "                  'from_poi_to_this_person']\n",
    "\n",
    "\n",
    "### Load the dictionary containing the dataset\n",
    "with open(\"final_project_dataset.pkl\", \"r\") as data_file:\n",
    "    data_dict = pickle.load(data_file)"
   ]
  },
  {
   "cell_type": "code",
   "execution_count": 299,
   "metadata": {
    "collapsed": false
   },
   "outputs": [],
   "source": [
    "### Task 2: Remove outliers\n",
    "### Remove the TOTAL entry, cause we know it's wrong\n",
    "del data_dict['TOTAL']\n",
    "del data_dict['THE TRAVEL AGENCY IN THE PARK']"
   ]
  },
  {
   "cell_type": "code",
   "execution_count": 245,
   "metadata": {
    "collapsed": true
   },
   "outputs": [],
   "source": [
    "### Extract features and labels from dataset and have a closer look\n",
    "data = featureFormat(data_dict, features_list, remove_NaN = True, remove_all_zeroes = True, sort_keys = False)\n",
    "labels, features = targetFeatureSplit(data)"
   ]
  },
  {
   "cell_type": "code",
   "execution_count": 302,
   "metadata": {
    "collapsed": false
   },
   "outputs": [
    {
     "name": "stdout",
     "output_type": "stream",
     "text": [
      "{'DecisionTreeClassifier__min_samples_leaf': 4, 'DecisionTreeClassifier__random_state': 80, 'PCA__n_components': 10, 'SKB__k': 5, 'DecisionTreeClassifier__min_weight_fraction_leaf': 0, 'DecisionTreeClassifier__min_samples_split': 9, 'Scaler__feature_range': (0, 1), 'DecisionTreeClassifier__criterion': 'entropy'}\n"
     ]
    }
   ],
   "source": [
    "scaler = MinMaxScaler()\n",
    "pca = PCA()\n",
    "skb = SelectKBest()\n",
    "clf_dt = tree.DecisionTreeClassifier()\n",
    "\n",
    "\n",
    "pipe = Pipeline(steps=[(\"Scaler\",scaler),(\"PCA\",pca),(\"SKB\", skb), (\"DecisionTreeClassifier\", clf_dt)])\n",
    "\n",
    "scaler_params = {\"Scaler__feature_range\": [(0,1)]}\n",
    "\n",
    "pca_params = {\"PCA__n_components\": [10,12,15]}\n",
    "\n",
    "kbest_params = {\"SKB__k\": range(4,7)}\n",
    "\n",
    "dt_params = {\"DecisionTreeClassifier__min_samples_leaf\": [2, 3,4],\n",
    "             \"DecisionTreeClassifier__min_samples_split\": [7, 8,9],\n",
    "             \"DecisionTreeClassifier__min_weight_fraction_leaf\": [0,0.05, 0.1],\n",
    "             \"DecisionTreeClassifier__criterion\": [\"gini\", \"entropy\"],\n",
    "             \"DecisionTreeClassifier__random_state\": [80]}\n",
    "\n",
    "scaler_params.update(pca_params) \n",
    "scaler_params.update(kbest_params)\n",
    "scaler_params.update(dt_params)\n",
    "data = featureFormat(data_dict,features_list, sort_keys = True)\n",
    "labels, features = targetFeatureSplit(data)\n",
    "number_of_splits = 200\n",
    "cv = StratifiedShuffleSplit(labels, number_of_splits, random_state = 16)\n",
    "\n",
    "gs = grid_search.GridSearchCV(pipe,scaler_params,cv = cv, scoring = 'f1')\n",
    "gs.fit(features,labels)\n",
    "\n",
    "print gs.best_params_"
   ]
  },
  {
   "cell_type": "code",
   "execution_count": 303,
   "metadata": {
    "collapsed": false
   },
   "outputs": [
    {
     "name": "stdout",
     "output_type": "stream",
     "text": [
      "Score:  0.820666666667\n",
      "Precision:  0.2675\n",
      "Recall:  0.269666666667\n",
      "\n"
     ]
    }
   ],
   "source": [
    "clf = gs.best_estimator_\n",
    "prec = 0\n",
    "rec = 0\n",
    "sc = 0\n",
    "for train,test in cv:\n",
    "    X_train = [features[i] for i in train]\n",
    "    Y_train = [labels[j] for j in train]\n",
    "\n",
    "    X_test = [features[i] for i in test]\n",
    "    Y_test = [labels[j] for j in test]\n",
    "\n",
    "    clf.fit(X_train,Y_train)\n",
    "\n",
    "    precision,recall,_,_ = precision_recall_fscore_support(clf.predict(X_test),Y_test,average = 'binary')\n",
    "    prec = prec + precision\n",
    "    rec = rec + recall\n",
    "    sc = sc + clf.score(X_test,Y_test)\n",
    "\n",
    "    \n",
    "print \"Score: \" ,sc/number_of_splits\n",
    "print \"Precision: \", prec/number_of_splits\n",
    "print \"Recall: \", rec/number_of_splits\n",
    "print \"\""
   ]
  },
  {
   "cell_type": "code",
   "execution_count": 238,
   "metadata": {
    "collapsed": false
   },
   "outputs": [],
   "source": [
    "### Get the 10 'best' features\n",
    "\n",
    "from sklearn.feature_selection import SelectKBest\n",
    "selector = SelectKBest(k = 10)\n",
    "selected_fit = selector.fit_transform(features,labels)\n",
    "mask = selector.get_support()\n",
    "best_feature_names = [d for (d, s) in zip(features_list[1:],mask) if s]"
   ]
  },
  {
   "cell_type": "code",
   "execution_count": 239,
   "metadata": {
    "collapsed": false
   },
   "outputs": [
    {
     "name": "stdout",
     "output_type": "stream",
     "text": [
      "['salary', 'total_payments', 'exercised_stock_options', 'bonus', 'restricted_stock', 'shared_receipt_with_poi', 'total_stock_value', 'loan_advances', 'deferred_income', 'long_term_incentive']\n",
      "<type 'numpy.ndarray'>\n",
      "[[  3.65788000e+05   1.06182700e+06   0.00000000e+00   6.00000000e+05\n",
      "    5.85062000e+05   7.02000000e+02   5.85062000e+05   0.00000000e+00\n",
      "    0.00000000e+00   0.00000000e+00]\n",
      " [  2.67102000e+05   5.63434300e+06   6.68054400e+06   1.20000000e+06\n",
      "    3.94271400e+06   0.00000000e+00   1.06232580e+07   0.00000000e+00\n",
      "   -1.38605500e+06   1.58605500e+06]\n",
      " [  1.70941000e+05   2.11725000e+05   4.89034400e+06   3.50000000e+05\n",
      "    1.78839100e+06   0.00000000e+00   6.67873500e+06   0.00000000e+00\n",
      "   -4.00729000e+05   0.00000000e+00]\n",
      " [  2.43293000e+05   2.88682000e+05   5.53800100e+06   1.50000000e+06\n",
      "    8.53064000e+05   1.03500000e+03   6.39106500e+06   0.00000000e+00\n",
      "   -3.11701100e+06   1.61701100e+06]\n",
      " [  2.67093000e+05   6.28522000e+05   0.00000000e+00   3.25000000e+05\n",
      "    2.08510000e+05   0.00000000e+00   2.08510000e+05   0.00000000e+00\n",
      "    0.00000000e+00   0.00000000e+00]\n",
      " [  3.70448000e+05   4.09977100e+06   1.10405400e+06   2.60000000e+06\n",
      "    5.58801000e+05   2.22800000e+03   1.66285500e+06   0.00000000e+00\n",
      "    0.00000000e+00   6.94862000e+05]\n",
      " [  1.97091000e+05   1.73762900e+06   8.80290000e+05   4.00000000e+05\n",
      "    4.09554000e+05   7.42000000e+02   8.80290000e+05   0.00000000e+00\n",
      "   -3.33330000e+04   0.00000000e+00]\n",
      " [  1.30724000e+05   3.10022400e+06   2.28276800e+06   0.00000000e+00\n",
      "    0.00000000e+00   1.19000000e+02   2.28276800e+06   0.00000000e+00\n",
      "    0.00000000e+00   0.00000000e+00]\n",
      " [  2.88589000e+05   1.13046100e+06   0.00000000e+00   7.88750000e+05\n",
      "    0.00000000e+00   4.10000000e+01   0.00000000e+00   0.00000000e+00\n",
      "    0.00000000e+00   0.00000000e+00]\n",
      " [  2.48546000e+05   2.01483500e+06   7.65313000e+05   8.50000000e+05\n",
      "    1.89041000e+05   2.32600000e+03   9.54354000e+05   0.00000000e+00\n",
      "    0.00000000e+00   8.31809000e+05]\n",
      " [  2.57486000e+05   1.54505900e+06   0.00000000e+00   7.00000000e+05\n",
      "    6.98920000e+05   2.56500000e+03   6.98920000e+05   0.00000000e+00\n",
      "    0.00000000e+00   4.76451000e+05]\n",
      " [  2.88542000e+05   1.49034400e+06   0.00000000e+00   1.20000000e+06\n",
      "    6.98242000e+05   1.13200000e+03   6.98242000e+05   0.00000000e+00\n",
      "   -1.44062000e+05   0.00000000e+00]\n",
      " [  2.51654000e+05   3.20207000e+06   1.05632000e+06   1.10000000e+06\n",
      "    3.60528000e+05   1.14000000e+02   1.41684800e+06   0.00000000e+00\n",
      "   -7.19000000e+05   1.72554500e+06]\n",
      " [  2.88558000e+05   5.51174000e+05   1.85063000e+05   2.50000000e+05\n",
      "    5.40672000e+05   1.17000000e+02   7.25735000e+05   0.00000000e+00\n",
      "    0.00000000e+00   0.00000000e+00]\n",
      " [  6.37440000e+04   7.62135000e+05   0.00000000e+00   0.00000000e+00\n",
      "    3.84930000e+05   0.00000000e+00   3.84930000e+05   0.00000000e+00\n",
      "   -1.08000000e+04   2.56191000e+05]\n",
      " [  3.57091000e+05   1.79878000e+06   4.34654400e+06   8.50000000e+05\n",
      "    1.55245300e+06   2.15000000e+02   5.89899700e+06   0.00000000e+00\n",
      "    0.00000000e+00   5.40751000e+05]\n",
      " [  2.71442000e+05   3.47114100e+06   8.10420000e+04   3.10000000e+06\n",
      "    4.66101000e+05   3.66900000e+03   5.47143000e+05   0.00000000e+00\n",
      "    0.00000000e+00   0.00000000e+00]\n",
      " [  3.04110000e+05   3.03870200e+06   1.44189800e+06   2.00000000e+06\n",
      "    6.30137000e+05   1.73000000e+03   2.07203500e+06   0.00000000e+00\n",
      "    0.00000000e+00   5.54422000e+05]\n",
      " [  1.87922000e+05   6.18850000e+05   0.00000000e+00   2.50000000e+05\n",
      "    6.59249000e+05   2.33000000e+02   6.59249000e+05   0.00000000e+00\n",
      "   -4.85813000e+05   1.80250000e+05]\n",
      " [  2.13625000e+05   2.04759300e+06   1.46573400e+06   1.00000000e+06\n",
      "    3.78082000e+05   1.33600000e+03   1.84381600e+06   0.00000000e+00\n",
      "    0.00000000e+00   3.69721000e+05]\n",
      " [  2.49201000e+05   1.09910000e+06   1.63523800e+06   7.00000000e+05\n",
      "    2.83649000e+05   1.25800000e+03   1.91888700e+06   0.00000000e+00\n",
      "   -1.00000000e+05   0.00000000e+00]\n",
      " [  2.31330000e+05   9.69068000e+05   0.00000000e+00   7.00000000e+05\n",
      "    1.26027000e+05   2.63900000e+03   1.26027000e+05   0.00000000e+00\n",
      "    0.00000000e+00   0.00000000e+00]\n",
      " [  1.82245000e+05   2.69232400e+06   6.01438000e+05   2.00000000e+05\n",
      "    4.07503000e+05   0.00000000e+00   1.00894100e+06   0.00000000e+00\n",
      "    0.00000000e+00   2.23477400e+06]\n",
      " [  2.11788000e+05   2.08179600e+06   0.00000000e+00   1.70000000e+06\n",
      "    4.41096000e+05   9.00000000e+02   4.41096000e+05   0.00000000e+00\n",
      "    0.00000000e+00   6.92230000e+04]\n",
      " [  2.24305000e+05   2.65261200e+06   0.00000000e+00   8.00000000e+05\n",
      "    9.85032000e+05   0.00000000e+00   9.85032000e+05   0.00000000e+00\n",
      "    0.00000000e+00   6.02671000e+05]\n",
      " [  2.73746000e+05   2.66422800e+06   0.00000000e+00   1.00000000e+06\n",
      "    3.60528000e+05   2.67200000e+03   3.60528000e+05   0.00000000e+00\n",
      "    0.00000000e+00   1.38739900e+06]\n",
      " [  3.39288000e+05   1.04257570e+07   4.15899500e+06   8.00000000e+06\n",
      "    1.00814900e+06   3.96200000e+03   5.16714400e+06   0.00000000e+00\n",
      "    0.00000000e+00   2.03538000e+06]\n",
      " [  2.16582000e+05   2.28474000e+05   1.62439600e+06   0.00000000e+00\n",
      "    8.69220000e+05   0.00000000e+00   2.49361600e+06   0.00000000e+00\n",
      "    0.00000000e+00   0.00000000e+00]\n",
      " [  2.10500000e+05   1.20458300e+06   2.02786500e+06   4.25000000e+05\n",
      "    3.15068000e+05   0.00000000e+00   2.02786500e+06   0.00000000e+00\n",
      "   -7.75241000e+05   4.15657000e+05]\n",
      " [  2.72880000e+05   2.14697300e+06   4.36515000e+05   7.50000000e+05\n",
      "    4.41096000e+05   0.00000000e+00   8.77611000e+05   0.00000000e+00\n",
      "    0.00000000e+00   3.04805000e+05]\n",
      " [  4.77000000e+02   9.16197000e+05   4.04615700e+06   0.00000000e+00\n",
      "    1.75755200e+06   4.65000000e+02   5.24348700e+06   0.00000000e+00\n",
      "   -5.10400000e+03   0.00000000e+00]\n",
      " [  2.69076000e+05   1.05754800e+06   6.07837000e+05   6.50000000e+05\n",
      "    3.79164000e+05   4.52700000e+03   9.87001000e+05   0.00000000e+00\n",
      "    0.00000000e+00   0.00000000e+00]\n",
      " [  4.28780000e+05   4.33538800e+06   1.83555800e+06   1.50000000e+06\n",
      "    1.29342400e+06   2.10300000e+03   3.12898200e+06   0.00000000e+00\n",
      "    0.00000000e+00   5.54422000e+05]\n",
      " [  2.11844000e+05   2.00388500e+06   1.62439600e+06   2.00000000e+05\n",
      "    8.69220000e+05   9.10000000e+01   2.49361600e+06   0.00000000e+00\n",
      "   -4.16700000e+03   0.00000000e+00]\n",
      " [  2.06121000e+05   1.20864900e+06   1.73780000e+04   6.00000000e+05\n",
      "    1.41833000e+05   5.52000000e+02   1.59211000e+05   0.00000000e+00\n",
      "    0.00000000e+00   3.35349000e+05]\n",
      " [  1.74246000e+05   7.04896000e+05   0.00000000e+00   0.00000000e+00\n",
      "    1.03434600e+06   0.00000000e+00   1.03434600e+06   0.00000000e+00\n",
      "   -5.10420000e+04   0.00000000e+00]\n",
      " [  5.10364000e+05   4.67757400e+06   3.28296000e+06   3.00000000e+06\n",
      "    2.79617700e+06   3.92000000e+03   6.07913700e+06   0.00000000e+00\n",
      "    0.00000000e+00   8.08346000e+05]\n",
      " [  3.65038000e+05   2.10136400e+06   1.62301000e+06   1.10000000e+06\n",
      "    1.47826900e+06   2.18900000e+03   3.10127900e+06   0.00000000e+00\n",
      "    0.00000000e+00   5.54422000e+05]\n",
      " [  3.65163000e+05   4.74797900e+06   2.29111300e+06   3.00000000e+06\n",
      "    1.32314800e+06   2.09700000e+03   3.61426100e+06   0.00000000e+00\n",
      "    0.00000000e+00   1.29498100e+06]\n",
      " [  1.62779000e+05   9.99356000e+05   1.36237500e+06   1.00000000e+05\n",
      "    0.00000000e+00   0.00000000e+00   1.36237500e+06   0.00000000e+00\n",
      "    0.00000000e+00   5.54422000e+05]\n",
      " [  2.36457000e+05   8.75889000e+05   2.54936100e+06   2.00000000e+05\n",
      "    5.14847000e+05   0.00000000e+00   3.06420800e+06   0.00000000e+00\n",
      "    0.00000000e+00   1.75000000e+05]\n",
      " [  1.07232100e+06   1.03559793e+08   3.43483840e+07   7.00000000e+06\n",
      "    1.47616940e+07   2.41100000e+03   4.91100780e+07   8.15250000e+07\n",
      "   -3.00000000e+05   3.60000000e+06]\n",
      " [  2.61516000e+05   1.27158200e+06   0.00000000e+00   7.50000000e+05\n",
      "    4.17619000e+05   0.00000000e+00   4.17619000e+05   0.00000000e+00\n",
      "   -7.50000000e+04   1.75000000e+05]\n",
      " [  3.29078000e+05   1.32155700e+06   1.63703400e+06   7.50000000e+05\n",
      "    9.69729000e+05   8.56000000e+02   2.60676300e+06   0.00000000e+00\n",
      "    0.00000000e+00   1.00000000e+05]\n",
      " [  1.84899000e+05   8.07956000e+05   0.00000000e+00   3.25000000e+05\n",
      "    2.07940000e+05   0.00000000e+00   2.07940000e+05   0.00000000e+00\n",
      "    0.00000000e+00   2.75000000e+05]\n",
      " [  1.92008000e+05   9.00585000e+05   8.32370000e+04   5.09870000e+05\n",
      "    2.35370000e+05   0.00000000e+00   3.18607000e+05   0.00000000e+00\n",
      "   -1.04200000e+03   0.00000000e+00]\n",
      " [  2.63413000e+05   1.31876300e+06   5.06765000e+05   9.00000000e+05\n",
      "    4.41096000e+05   1.46900000e+03   9.47861000e+05   0.00000000e+00\n",
      "   -1.25000000e+05   0.00000000e+00]\n",
      " [  2.62663000e+05   1.29746100e+06   1.87500000e+05   7.00000000e+05\n",
      "    4.80632000e+05   0.00000000e+00   6.68132000e+05   0.00000000e+00\n",
      "   -2.80000000e+05   1.50000000e+05]\n",
      " [  3.74125000e+05   3.85906500e+06   6.08750000e+05   1.15000000e+06\n",
      "    5.24169000e+05   1.84700000e+03   8.03094000e+05   0.00000000e+00\n",
      "   -9.34484000e+05   9.83346000e+05]\n",
      " [  2.78601000e+05   2.66958900e+06   0.00000000e+00   1.35000000e+06\n",
      "    2.52055000e+05   1.59300000e+03   2.52055000e+05   0.00000000e+00\n",
      "   -8.33000000e+02   9.74293000e+05]\n",
      " [  1.99157000e+05   1.41485700e+06   6.64461000e+05   3.50000000e+05\n",
      "    9.56775000e+05   7.23000000e+02   1.62123600e+06   0.00000000e+00\n",
      "    0.00000000e+00   5.56416000e+05]\n",
      " [  9.68400000e+04   1.11529000e+05   7.50903900e+06   0.00000000e+00\n",
      "    3.81285000e+05   1.06300000e+03   7.89032400e+06   0.00000000e+00\n",
      "    0.00000000e+00   0.00000000e+00]\n",
      " [  8.08180000e+04   8.60136000e+05   1.59964100e+06   0.00000000e+00\n",
      "    0.00000000e+00   0.00000000e+00   1.59964100e+06   0.00000000e+00\n",
      "    0.00000000e+00   9.37500000e+04]\n",
      " [  2.13999000e+05   5.50163000e+06   9.53136000e+05   5.24999900e+06\n",
      "    1.57569000e+05   5.52100000e+03   1.11070500e+06   0.00000000e+00\n",
      "   -2.33443400e+06   0.00000000e+00]\n",
      " [  2.10692000e+05   2.09326300e+06   1.45186900e+06   7.50000000e+05\n",
      "    1.89041000e+05   5.99000000e+02   1.64091000e+06   0.00000000e+00\n",
      "    0.00000000e+00   1.10521800e+06]\n",
      " [  2.22093000e+05   9.11453000e+05   4.45247600e+06   0.00000000e+00\n",
      "    3.65320000e+05   7.30000000e+01   4.81779600e+06   0.00000000e+00\n",
      "    0.00000000e+00   2.00000000e+05]\n",
      " [  4.40698000e+05   2.42408300e+06   0.00000000e+00   1.30000000e+06\n",
      "    1.79441200e+06   0.00000000e+00   1.79441200e+06   0.00000000e+00\n",
      "   -1.38605500e+06   1.73605500e+06]\n",
      " [  2.40189000e+05   1.63929700e+06   0.00000000e+00   1.25000000e+06\n",
      "    1.26027000e+05   2.18800000e+03   1.26027000e+05   0.00000000e+00\n",
      "   -2.62500000e+05   3.75304000e+05]\n",
      " [  4.20636000e+05   5.05050000e+05   1.97941750e+07   1.75000000e+06\n",
      "    2.74836400e+06   8.64000000e+02   2.25425390e+07   0.00000000e+00\n",
      "   -3.50438600e+06   1.61701100e+06]\n",
      " [  2.75101000e+05   1.08682100e+06   8.50010000e+05   4.00000000e+05\n",
      "    1.26027000e+05   5.83000000e+02   9.76037000e+05   0.00000000e+00\n",
      "    0.00000000e+00   3.23466000e+05]\n",
      " [  3.14288000e+05   1.10139300e+06   1.17551000e+05   8.00000000e+05\n",
      "    3.78082000e+05   7.10000000e+01   4.95633000e+05   0.00000000e+00\n",
      "   -4.12500000e+04   0.00000000e+00]\n",
      " [  9.49410000e+04   2.49787000e+05   5.26657800e+06   0.00000000e+00\n",
      "    2.04101600e+06   0.00000000e+00   7.30759400e+06   0.00000000e+00\n",
      "    0.00000000e+00   1.35836000e+05]\n",
      " [  2.39502000e+05   1.11208700e+06   0.00000000e+00   5.00000000e+05\n",
      "    5.11734000e+05   0.00000000e+00   5.11734000e+05   0.00000000e+00\n",
      "    0.00000000e+00   0.00000000e+00]\n",
      " [  1.11125800e+06   8.68271600e+06   1.92500000e+07   5.60000000e+06\n",
      "    6.84367200e+06   2.04200000e+03   2.60936720e+07   0.00000000e+00\n",
      "    0.00000000e+00   1.92000000e+06]\n",
      " [  6.61500000e+03   1.14665800e+06   0.00000000e+00   0.00000000e+00\n",
      "    0.00000000e+00   0.00000000e+00   0.00000000e+00   0.00000000e+00\n",
      "    0.00000000e+00   3.65625000e+05]\n",
      " [  6.55037000e+05   1.38669000e+06   2.87980000e+04   3.00000000e+05\n",
      "    0.00000000e+00   7.28000000e+02   2.87980000e+04   4.00000000e+05\n",
      "    0.00000000e+00   0.00000000e+00]\n",
      " [  4.04338000e+05   1.74752200e+06   2.02204800e+06   1.00000000e+06\n",
      "    4.13159400e+06   3.63900000e+03   6.15364200e+06   0.00000000e+00\n",
      "    0.00000000e+00   3.00000000e+05]\n",
      " [  2.59996000e+05   1.03439500e+06   1.66826000e+06   3.25000000e+05\n",
      "    3.88167000e+05   3.37000000e+02   2.05642700e+06   0.00000000e+00\n",
      "   -5.83325000e+05   2.00000000e+05]\n",
      " [  3.17543000e+05   1.93435900e+06   1.29704900e+06   4.50000000e+05\n",
      "    1.38470740e+07   0.00000000e+00   1.51441230e+07   0.00000000e+00\n",
      "    0.00000000e+00   0.00000000e+00]\n",
      " [  2.01955000e+05   4.48444200e+06   1.72954100e+06   4.17500000e+06\n",
      "    1.26027000e+05   1.40700000e+03   1.72954100e+06   0.00000000e+00\n",
      "   -3.08105500e+06   3.04805000e+05]\n",
      " [  2.48146000e+05   1.57651100e+06   2.81073000e+05   6.00000000e+05\n",
      "    2.13063000e+05   2.47700000e+03   4.94136000e+05   0.00000000e+00\n",
      "    0.00000000e+00   4.22158000e+05]\n",
      " [  7.63990000e+04   3.94475000e+05   4.16067200e+06   1.00000000e+05\n",
      "    2.01483000e+05   0.00000000e+00   4.22189100e+06   0.00000000e+00\n",
      "   -2.00000000e+05   1.56250000e+05]\n",
      " [  2.62788000e+05   2.36815100e+06   8.19175500e+06   1.00000000e+06\n",
      "    1.26027000e+05   0.00000000e+00   8.31778200e+06   0.00000000e+00\n",
      "    0.00000000e+00   6.94862000e+05]\n",
      " [  2.61809000e+05   4.77557000e+05   0.00000000e+00   3.00000000e+05\n",
      "    3.07301000e+05   1.96000000e+02   0.00000000e+00   0.00000000e+00\n",
      "   -1.59792000e+05   7.50000000e+04]\n",
      " [  2.48017000e+05   1.05463700e+06   8.25464000e+05   5.00000000e+05\n",
      "    1.89041000e+05   2.30000000e+01   1.01450500e+06   0.00000000e+00\n",
      "    0.00000000e+00   3.04805000e+05]\n",
      " [  2.29284000e+05   8.12194000e+05   4.00478000e+05   4.00000000e+05\n",
      "    1.96983000e+05   3.95000000e+02   5.97461000e+05   0.00000000e+00\n",
      "    0.00000000e+00   1.25000000e+05]\n",
      " [  2.31946000e+05   1.56646900e+06   6.36246000e+05   8.50000000e+05\n",
      "    2.59907000e+05   1.78000000e+02   8.96153000e+05   0.00000000e+00\n",
      "    0.00000000e+00   3.75304000e+05]\n",
      " [  2.21003000e+05   3.19941000e+05   0.00000000e+00   7.00000000e+04\n",
      "    0.00000000e+00   1.14000000e+02   0.00000000e+00   0.00000000e+00\n",
      "    0.00000000e+00   0.00000000e+00]\n",
      " [  1.58403000e+05   3.60300000e+05   8.30855200e+06   0.00000000e+00\n",
      "    3.57620600e+06   0.00000000e+00   1.18847580e+07   0.00000000e+00\n",
      "    0.00000000e+00   0.00000000e+00]\n",
      " [  2.50100000e+05   1.41046400e+06   1.55001900e+06   6.00000000e+05\n",
      "    3.15068000e+05   1.90200000e+03   1.86508700e+06   0.00000000e+00\n",
      "    0.00000000e+00   5.56416000e+05]\n",
      " [  4.92375000e+05   5.50981000e+05   8.83191300e+06   8.00000000e+05\n",
      "    1.78738000e+06   1.40100000e+03   8.83191300e+06   0.00000000e+00\n",
      "   -1.28400000e+06   4.84000000e+05]\n",
      " [  1.06093200e+06   1.72525300e+07   1.04335180e+07   2.00000000e+06\n",
      "    4.18866700e+06   2.97900000e+03   1.46221850e+07   2.00000000e+06\n",
      "   -3.36701100e+06   1.61701100e+06]\n",
      " [  2.61879000e+05   3.12338300e+06   1.53641670e+07   1.00000000e+06\n",
      "    8.45376300e+06   0.00000000e+00   2.38179300e+07   0.00000000e+00\n",
      "    0.00000000e+00   0.00000000e+00]\n",
      " [  2.39671000e+05   8.27696000e+05   0.00000000e+00   4.00000000e+05\n",
      "    1.45796000e+05   0.00000000e+00   6.30140000e+04   0.00000000e+00\n",
      "   -2.01641000e+05   0.00000000e+00]\n",
      " [  3.04588000e+05   3.67634000e+06   9.40257000e+05   2.50000000e+06\n",
      "    1.39214200e+06   1.60400000e+03   2.33239900e+06   0.00000000e+00\n",
      "    0.00000000e+00   3.74347000e+05]\n",
      " [  3.09946000e+05   1.58742100e+06   6.71737000e+05   7.00000000e+05\n",
      "    1.24831800e+06   2.27100000e+03   1.92005500e+06   0.00000000e+00\n",
      "    0.00000000e+00   3.00000000e+05]\n",
      " [  8.52740000e+04   1.97959600e+06   2.16517200e+06   0.00000000e+00\n",
      "    3.65480800e+06   4.37000000e+02   5.81998000e+06   0.00000000e+00\n",
      "    0.00000000e+00   3.12500000e+05]\n",
      " [  2.47338000e+05   3.99393000e+05   5.91250000e+05   3.00000000e+05\n",
      "    5.76792000e+05   3.79000000e+02   1.16804200e+06   0.00000000e+00\n",
      "   -5.75000000e+05   2.75000000e+05]\n",
      " [  3.49487000e+05   8.40701600e+06   2.07030600e+06   0.00000000e+00\n",
      "    0.00000000e+00   4.77000000e+02   2.07030600e+06   0.00000000e+00\n",
      "    0.00000000e+00   5.14543400e+06]\n",
      " [  3.30546000e+05   2.35570200e+06   2.54281300e+06   9.00000000e+05\n",
      "    9.01657000e+05   2.33300000e+03   3.44447000e+06   0.00000000e+00\n",
      "   -6.94862000e+05   7.69862000e+05]\n",
      " [  4.15189000e+05   1.86875800e+06   0.00000000e+00   1.00000000e+06\n",
      "    2.50206300e+06   1.58500000e+03   2.50206300e+06   0.00000000e+00\n",
      "   -2.35000000e+05   3.50000000e+05]\n",
      " [  2.65214000e+05   1.09266300e+06   3.18125000e+06   6.00000000e+05\n",
      "    5.63798000e+05   3.00000000e+02   3.74504800e+06   0.00000000e+00\n",
      "    0.00000000e+00   0.00000000e+00]\n",
      " [  2.78601000e+05   8.75760000e+05   7.65920000e+05   8.00000000e+05\n",
      "    3.15068000e+05   7.72000000e+02   1.08098800e+06   0.00000000e+00\n",
      "   -3.00000000e+05   0.00000000e+00]\n",
      " [  2.74975000e+05   1.27228400e+06   3.84728000e+05   6.00000000e+05\n",
      "    3.93818000e+05   8.74000000e+02   7.78546000e+05   0.00000000e+00\n",
      "    0.00000000e+00   7.10230000e+04]]\n"
     ]
    }
   ],
   "source": [
    "print best_feature_names\n",
    "print type(selected_fit)\n",
    "sub = np.array([x for x in selected_fit if x[0] != 0])\n",
    "print sub"
   ]
  },
  {
   "cell_type": "code",
   "execution_count": 227,
   "metadata": {
    "collapsed": false
   },
   "outputs": [
    {
     "data": {
      "text/plain": [
       "(-200000, 1500000)"
      ]
     },
     "execution_count": 227,
     "metadata": {},
     "output_type": "execute_result"
    },
    {
     "data": {
      "image/png": "[encoded data removed]",
      "text/plain": [
       "<matplotlib.figure.Figure at 0x1a8b1400>"
      ]
     },
     "metadata": {},
     "output_type": "display_data"
    }
   ],
   "source": [
    "plt.scatter(sub[:,0],sub[:,1],c = ['b' if x == 0 else 'r' for x in labels ])\n",
    "plt.ylim([-50000,1500000])\n",
    "plt.xlim([-200000,1500000])"
   ]
  },
  {
   "cell_type": "code",
   "execution_count": 144,
   "metadata": {
    "collapsed": false
   },
   "outputs": [
    {
     "data": {
      "text/plain": [
       "[<matplotlib.lines.Line2D at 0x19aeb748>]"
      ]
     },
     "execution_count": 144,
     "metadata": {},
     "output_type": "execute_result"
    },
    {
     "data": {
      "image/png": "[encoded data removed]",
      "text/plain": [
       "<matplotlib.figure.Figure at 0x195298d0>"
      ]
     },
     "metadata": {},
     "output_type": "display_data"
    }
   ],
   "source": [
    "###Sounds about right\n",
    "\n",
    "### Have a look at the total payments\n",
    "plt.plot(selected_fit[:,1])"
   ]
  },
  {
   "cell_type": "code",
   "execution_count": 126,
   "metadata": {
    "collapsed": true
   },
   "outputs": [],
   "source": [
    "### No probs with that, cause that's just bboy Kenneth L."
   ]
  },
  {
   "cell_type": "code",
   "execution_count": 240,
   "metadata": {
    "collapsed": false
   },
   "outputs": [
    {
     "name": "stdout",
     "output_type": "stream",
     "text": [
      "[[ 1.          0.51131663  0.44874121  0.64871548  0.53792071  0.50994518\n",
      "   0.52097669  0.38844318 -0.32926199  0.55933444]\n",
      " [ 0.51131663  1.          0.5987255   0.55953098  0.60358523  0.25357488\n",
      "   0.66149858  0.96430536 -0.10345582  0.52031292]\n",
      " [ 0.44874121  0.5987255   1.          0.41581134  0.58693661  0.12486276\n",
      "   0.96387438  0.56821387 -0.26806973  0.39853338]\n",
      " [ 0.64871548  0.55953098  0.41581134  1.          0.42303506  0.66433114\n",
      "   0.46064575  0.4325245  -0.33098456  0.49702962]\n",
      " [ 0.53792071  0.60358523  0.58693661  0.42303506  1.          0.17998107\n",
      "   0.78024846  0.58142423 -0.12564442  0.34214477]\n",
      " [ 0.50994518  0.25357488  0.12486276  0.66433114  0.17998107  1.\n",
      "   0.15499602  0.13723626 -0.23574506  0.27841167]\n",
      " [ 0.52097669  0.66149858  0.96387438  0.46064575  0.78024846  0.15499602\n",
      "   1.          0.63028407 -0.24423782  0.42080105]\n",
      " [ 0.38844318  0.96430536  0.56821387  0.4325245   0.58142423  0.13723626\n",
      "   0.63028407  1.         -0.02518435  0.40211508]\n",
      " [-0.32926199 -0.10345582 -0.26806973 -0.33098456 -0.12564442 -0.23574506\n",
      "  -0.24423782 -0.02518435  1.         -0.29581468]\n",
      " [ 0.55933444  0.52031292  0.39853338  0.49702962  0.34214477  0.27841167\n",
      "   0.42080105  0.40211508 -0.29581468  1.        ]]\n"
     ]
    }
   ],
   "source": [
    "### Task 3: Create new feature(s)\n",
    "### Store to my_dataset for easy export below.\n",
    "from sklearn.decomposition import PCA\n",
    "\n",
    "### Find some features to combine\n",
    "print np.corrcoef(selected_fit.T)"
   ]
  },
  {
   "cell_type": "code",
   "execution_count": 241,
   "metadata": {
    "collapsed": false
   },
   "outputs": [
    {
     "data": {
      "text/plain": [
       "<matplotlib.collections.PathCollection at 0x1aa2ea58>"
      ]
     },
     "execution_count": 241,
     "metadata": {},
     "output_type": "execute_result"
    },
    {
     "data": {
      "image/png": "[encoded data removed]",
      "text/plain": [
       "<matplotlib.figure.Figure at 0x1a8a6d68>"
      ]
     },
     "metadata": {},
     "output_type": "display_data"
    }
   ],
   "source": [
    "### Variable 3 and 7 have a correlation of 0.96, so we'll combine those\n",
    "features_to_combine = selected_fit[:,[2,6]]\n",
    "\n",
    "plt.scatter(features_to_combine[:,0],features_to_combine[:,1])"
   ]
  },
  {
   "cell_type": "code",
   "execution_count": 129,
   "metadata": {
    "collapsed": false
   },
   "outputs": [],
   "source": [
    "# Remove the two old and add the new feature to the data\n",
    "pca = PCA(n_components = 1)\n",
    "\n",
    "new_feature = pca.fit_transform(features_to_combine)\n",
    "final_array = np.delete(selected_fit,[2,6],1)\n",
    "final_array = np.c_[final_array,new_feature]"
   ]
  },
  {
   "cell_type": "code",
   "execution_count": 130,
   "metadata": {
    "collapsed": false
   },
   "outputs": [
    {
     "name": "stdout",
     "output_type": "stream",
     "text": [
      "['poi', 'salary', 'total_payments', 'exercised_stock_options', 'bonus', 'restricted_stock', 'shared_receipt_with_poi', 'total_stock_value', 'loan_advances', 'deferred_income', 'long_term_incentive']\n"
     ]
    }
   ],
   "source": [
    "### Extract features and labels from dataset for local testing\n",
    "best_feature_names.insert(0,'poi')\n",
    "data = featureFormat(data_dict, best_feature_names, remove_NaN = True, remove_all_zeroes = True, sort_keys = False)\n",
    "labels, features = targetFeatureSplit(data)\n",
    "print best_feature_names"
   ]
  },
  {
   "cell_type": "code",
   "execution_count": 131,
   "metadata": {
    "collapsed": true
   },
   "outputs": [],
   "source": [
    "### Task 4: Try a varity of classifiers\n",
    "\n",
    "### Split into test and training sets\n",
    "from sklearn.cross_validation import train_test_split\n",
    "features_train,features_test,labels_train,labels_test = train_test_split(features,\n",
    "                                          labels,\n",
    "                                          test_size = 0.3,\n",
    "                                          random_state = 2) "
   ]
  },
  {
   "cell_type": "code",
   "execution_count": 132,
   "metadata": {
    "collapsed": true
   },
   "outputs": [],
   "source": [
    "### Function for trying a list of classifiers and printing certain key values\n",
    "from sklearn.metrics import precision_recall_fscore_support\n",
    "\n",
    "def standardClassifier(clf_list,features_train,features_test,labels_train,labels_test):\n",
    "    for clf in clf_list:\n",
    "        clf.fit(features_train,labels_train)\n",
    "        precision,recall,_,_ = precision_recall_fscore_support(clf.predict(features_test),labels_test,average = 'binary')\n",
    "        \n",
    "        print clf\n",
    "        print \"Score: \" ,clf.score(features_test,labels_test)\n",
    "        print \"Precision: \", precision\n",
    "        print \"Recall: \", recall\n",
    "        print \"\""
   ]
  },
  {
   "cell_type": "code",
   "execution_count": 133,
   "metadata": {
    "collapsed": false
   },
   "outputs": [
    {
     "name": "stdout",
     "output_type": "stream",
     "text": [
      "GaussianNB()\n",
      "Score:  0.116279069767\n",
      "Precision:  0.8\n",
      "Recall:  0.0975609756098\n",
      "\n",
      "DecisionTreeClassifier(class_weight=None, criterion='gini', max_depth=None,\n",
      "            max_features=None, max_leaf_nodes=None, min_samples_leaf=1,\n",
      "            min_samples_split=2, min_weight_fraction_leaf=0.0,\n",
      "            random_state=None, splitter='best')\n",
      "Score:  0.790697674419\n",
      "Precision:  0.2\n",
      "Recall:  0.166666666667\n",
      "\n",
      "SVC(C=1.0, cache_size=200, class_weight=None, coef0=0.0, degree=3, gamma=0.0,\n",
      "  kernel='rbf', max_iter=-1, probability=False, random_state=None,\n",
      "  shrinking=True, tol=0.001, verbose=False)\n",
      "Score:  0.883720930233\n",
      "Precision:  0.0\n",
      "Recall:  0.0\n",
      "\n",
      "AdaBoostClassifier(algorithm='SAMME.R', base_estimator=None,\n",
      "          learning_rate=1.0, n_estimators=50, random_state=None)\n",
      "Score:  0.813953488372\n",
      "Precision:  0.0\n",
      "Recall:  0.0\n",
      "\n",
      "RandomForestClassifier(bootstrap=True, class_weight=None, criterion='gini',\n",
      "            max_depth=None, max_features='auto', max_leaf_nodes=None,\n",
      "            min_samples_leaf=1, min_samples_split=2,\n",
      "            min_weight_fraction_leaf=0.0, n_estimators=10, n_jobs=1,\n",
      "            oob_score=False, random_state=None, verbose=0,\n",
      "            warm_start=False)\n",
      "Score:  0.883720930233\n",
      "Precision:  0.2\n",
      "Recall:  0.5\n",
      "\n"
     ]
    }
   ],
   "source": [
    "from sklearn.naive_bayes import GaussianNB\n",
    "from sklearn import tree\n",
    "from sklearn.svm import SVC\n",
    "from sklearn.ensemble import AdaBoostClassifier,RandomForestClassifier\n",
    "\n",
    "clf_list = [GaussianNB(),\n",
    "            tree.DecisionTreeClassifier(),\n",
    "            SVC(),\n",
    "            AdaBoostClassifier(),\n",
    "            RandomForestClassifier()]\n",
    "\n",
    "standardClassifier(clf_list,features_train,features_test,labels_train,labels_test)"
   ]
  },
  {
   "cell_type": "code",
   "execution_count": 134,
   "metadata": {
    "collapsed": false
   },
   "outputs": [],
   "source": [
    "### Task 5: Tune your classifier to achieve better than .3 precision and recall \n",
    "\n",
    "### Let's explore AdaBoost because it's good\n",
    "\n",
    "from sklearn import grid_search\n",
    "from sklearn.cross_validation import StratifiedShuffleSplit\n",
    "\n",
    "#parameters_abc={'n_estimators':[1,2,3],'learning_rate':[0.85,0.9,0.95]}\n",
    "parameters_dt = {'criterion': ['gini', 'entropy'],\n",
    "                 'splitter': ['random','best'],\n",
    "                 'max_features': ['auto','log2',None,2,3,5,8],\n",
    "                 'max_depth': [None,7,10,15],\n",
    "                 'min_samples_split':[1,2,3]}\n",
    "\n",
    "number_of_splits = 100"
   ]
  },
  {
   "cell_type": "code",
   "execution_count": 139,
   "metadata": {
    "collapsed": false
   },
   "outputs": [
    {
     "name": "stdout",
     "output_type": "stream",
     "text": [
      "{'max_features': 8, 'min_samples_split': 1, 'criterion': 'gini', 'max_depth': 10, 'splitter': 'random'}\n"
     ]
    }
   ],
   "source": [
    "cv = StratifiedShuffleSplit(labels, number_of_splits, random_state = 16)\n",
    "\n",
    "#abc = AdaBoostClassifier(base_estimator = RidgeClassifierCV())\n",
    "#gs = grid_search.GridSearchCV(abc,parameters_abc,cv = cv, scoring = 'f1')\n",
    "\n",
    "dt = tree.DecisionTreeClassifier()\n",
    "gs = grid_search.GridSearchCV(dt,parameters_dt,cv = cv, scoring = 'precision')\n",
    "\n",
    "\n",
    "gs.fit(features,labels)\n",
    "print gs.best_params_"
   ]
  },
  {
   "cell_type": "code",
   "execution_count": 271,
   "metadata": {
    "collapsed": false
   },
   "outputs": [
    {
     "name": "stdout",
     "output_type": "stream",
     "text": [
      "Score:  0.866666666667\n",
      "Precision:  0.2\n",
      "Recall:  0.4\n",
      "\n"
     ]
    }
   ],
   "source": [
    "clf = gs.best_estimator_\n",
    "prec = 0\n",
    "rec = 0\n",
    "sc = 0\n",
    "for train,test in cv:\n",
    "    X_train = [features[i] for i in train]\n",
    "    Y_train = [labels[j] for j in train]\n",
    "\n",
    "    X_test = [features[i] for i in test]\n",
    "    Y_test = [labels[j] for j in test]\n",
    "\n",
    "    clf.fit(X_train,Y_train)\n",
    "\n",
    "    precision,recall,_,_ = precision_recall_fscore_support(clf.predict(X_test),Y_test,average = 'binary')\n",
    "    prec = prec + precision\n",
    "    rec = rec + recall\n",
    "    sc = sc + clf.score(X_test,Y_test)\n",
    "\n",
    "    \n",
    "print \"Score: \" ,sc/number_of_splits\n",
    "print \"Precision: \", prec/number_of_splits\n",
    "print \"Recall: \", rec/number_of_splits\n",
    "print \"\""
   ]
  },
  {
   "cell_type": "code",
   "execution_count": 81,
   "metadata": {
    "collapsed": false
   },
   "outputs": [],
   "source": [
    "### Pass in the data_dict with 'TOTAL' removed\n",
    "my_dataset = data_dict\n",
    "\n",
    "### The features, as selected by SelectKBest\n",
    "feature_list = best_feature_names\n",
    "\n",
    "### Dump it\n",
    "dump_classifier_and_data(clf, my_dataset, feature_list)"
   ]
  },
  {
   "cell_type": "code",
   "execution_count": null,
   "metadata": {
    "collapsed": true
   },
   "outputs": [],
   "source": []
  }
 ],
 "metadata": {
  "kernelspec": {
   "display_name": "Python 2",
   "language": "python",
   "name": "python2"
  },
  "language_info": {
   "codemirror_mode": {
    "name": "ipython",
    "version": 2
   },
   "file_extension": ".py",
   "mimetype": "text/x-python",
   "name": "python",
   "nbconvert_exporter": "python",
   "pygments_lexer": "ipython2",
   "version": "2.7.10"
  }
 },
 "nbformat": 4,
 "nbformat_minor": 0
}
