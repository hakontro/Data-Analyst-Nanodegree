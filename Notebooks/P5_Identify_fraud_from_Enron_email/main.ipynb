{
 "cells": [
  {
   "cell_type": "code",
   "execution_count": 76,
   "metadata": {
    "collapsed": true
   },
   "outputs": [],
   "source": [
    "#!/usr/bin/python\n",
    "\n",
    "import sys\n",
    "import pickle\n",
    "import numpy as np\n",
    "import matplotlib.pyplot as plt\n",
    "from sklearn.naive_bayes import GaussianNB\n",
    "from sklearn import tree\n",
    "from sklearn.svm import SVC\n",
    "from sklearn.ensemble import AdaBoostClassifier,RandomForestClassifier\n",
    "from sklearn.pipeline import Pipeline\n",
    "from sklearn import grid_search\n",
    "from sklearn.cross_validation import StratifiedShuffleSplit\n",
    "from sklearn.decomposition import PCA\n",
    "from sklearn.preprocessing import MinMaxScaler\n",
    "from sklearn.feature_selection import SelectKBest\n",
    "from sklearn.metrics import precision_recall_fscore_support\n",
    "\n",
    "sys.path.append(\"../tools/\")\n",
    "\n",
    "from feature_format import featureFormat, targetFeatureSplit\n",
    "from tester import dump_classifier_and_data\n",
    "\n",
    "%matplotlib inline"
   ]
  },
  {
   "cell_type": "markdown",
   "metadata": {},
   "source": [
    "### Task 1: Select what features to use"
   ]
  },
  {
   "cell_type": "code",
   "execution_count": 77,
   "metadata": {
    "collapsed": false
   },
   "outputs": [],
   "source": [
    "### Load the dictionary containing the dataset\n",
    "with open(\"final_project_dataset.pkl\", \"r\") as data_file:\n",
    "    data_dict = pickle.load(data_file)\n",
    "\n",
    "### Get all values at first\n",
    "features_list = ['poi','salary','to_messages','deferral_payments',\n",
    "                  'total_payments','exercised_stock_options',\n",
    "                  'bonus','restricted_stock','shared_receipt_with_poi',\n",
    "                  'restricted_stock_deferred','total_stock_value',\n",
    "                  'expenses','loan_advances','from_messages',\n",
    "                  'other','from_this_person_to_poi',\n",
    "                  'director_fees', 'deferred_income','long_term_incentive',\n",
    "                  'from_poi_to_this_person']\n",
    "\n",
    "### Extract features and labels from dataset and have a closer look\n",
    "data = featureFormat(data_dict, features_list, remove_NaN = True, remove_all_zeroes = True, sort_keys = False)\n",
    "labels, features = targetFeatureSplit(data)"
   ]
  },
  {
   "cell_type": "code",
   "execution_count": 78,
   "metadata": {
    "collapsed": false
   },
   "outputs": [
    {
     "name": "stdout",
     "output_type": "stream",
     "text": [
      "Data type: <type 'numpy.ndarray'>\n",
      "Shape: (145L, 20L)\n",
      "Number of persons: 145\n",
      "Number of features: 19\n"
     ]
    }
   ],
   "source": [
    "### Look at data\n",
    "print \"Data type: \"+ str(type(data))\n",
    "print \"Shape: \"+ str(data.shape)\n",
    "print \"Number of persons: \"+ str(len(labels))\n",
    "print \"Number of features: \" + str(features[0].size)"
   ]
  },
  {
   "cell_type": "code",
   "execution_count": 79,
   "metadata": {
    "collapsed": false,
    "scrolled": true
   },
   "outputs": [
    {
     "name": "stdout",
     "output_type": "stream",
     "text": [
      "Feature 1 has 59 zeroes\n",
      "Feature 2 has 106 zeroes\n",
      "Feature 3 has 20 zeroes\n",
      "Feature 4 has 43 zeroes\n",
      "Feature 5 has 63 zeroes\n",
      "Feature 6 has 35 zeroes\n",
      "Feature 7 has 59 zeroes\n",
      "Feature 8 has 127 zeroes\n",
      "Feature 9 has 19 zeroes\n",
      "Feature 10 has 50 zeroes\n",
      "Feature 11 has 141 zeroes\n",
      "Feature 12 has 59 zeroes\n",
      "Feature 13 has 52 zeroes\n",
      "Feature 14 has 79 zeroes\n",
      "Feature 15 has 128 zeroes\n",
      "Feature 16 has 96 zeroes\n",
      "Feature 17 has 79 zeroes\n",
      "Feature 18 has 71 zeroes\n"
     ]
    }
   ],
   "source": [
    "### Have a look at the number of zeros for each feature\n",
    "### Feature 1 is POI\n",
    "### Notice how for example Feature 11 is almost exclusively zeros\n",
    "for feat_num in range(2,len(data[0])):\n",
    "    feat_val = []\n",
    "    for i in data:\n",
    "        feat_val.append(i[feat_num])\n",
    "    print \"Feature \" + str(feat_num-1) + \" has \" + str(feat_val.count(0)) + \" zeroes\""
   ]
  },
  {
   "cell_type": "markdown",
   "metadata": {},
   "source": [
    "### Task 2: Remove outliers"
   ]
  },
  {
   "cell_type": "code",
   "execution_count": 80,
   "metadata": {
    "collapsed": false
   },
   "outputs": [],
   "source": [
    "\n",
    "### From the lessons and further investigation it's clear that there are certain values not representing people, \n",
    "### so these are removed.\n",
    "\n",
    "del data_dict['TOTAL']\n",
    "del data_dict['THE TRAVEL AGENCY IN THE PARK']\n",
    "del data_dict['LOCKHART EUGENE E']\n",
    "data = featureFormat(data_dict, features_list, remove_NaN = True, remove_all_zeroes = True, sort_keys = False)\n",
    "labels, features = targetFeatureSplit(data)"
   ]
  },
  {
   "cell_type": "markdown",
   "metadata": {},
   "source": [
    "### Task 3: Create new feature(s)"
   ]
  },
  {
   "cell_type": "code",
   "execution_count": 81,
   "metadata": {
    "collapsed": false,
    "scrolled": false
   },
   "outputs": [
    {
     "name": "stdout",
     "output_type": "stream",
     "text": [
      "Correlation - Remaining Rows - Feature # - Feature #\n",
      "[   0.66816639  107.            4.           10.        ]\n",
      "[   0.85524974  106.            7.           10.        ]\n",
      "[   0.96356024  100.            5.           10.        ]\n",
      "[  0.59572806  94.           4.           7.        ]\n",
      "[  0.57926021  94.           1.           4.        ]\n",
      "[  0.10979754  94.           4.          11.        ]\n",
      "[  0.82558889  91.           4.          14.        ]\n",
      "[  0.61473599  90.           1.          10.        ]\n",
      "[  0.60690255  88.           1.          14.        ]\n",
      "[  0.23085549  86.           8.          13.        ]\n",
      "[  0.4754499  86.          2.         13.       ]\n",
      "[  0.59168974  86.           4.           5.        ]\n",
      "[  0.62717087  86.          10.          14.        ]\n",
      "[  0.55082368  86.           1.           7.        ]\n",
      "[  0.84799001  86.           2.           8.        ]\n",
      "[  0.64435737  84.           7.          14.        ]\n",
      "[  3.47072522e-02   8.40000000e+01   1.00000000e+01   1.10000000e+01]\n",
      "[  0.6909355  82.          5.          7.       ]\n",
      "[  0.14536375  81.           1.          11.        ]\n",
      "[  0.52319014  81.           1.           6.        ]\n",
      "[  0.5690541  81.          4.          6.       ]\n",
      "[  0.12086417  80.           2.          10.        ]\n",
      "[ -3.63095760e-02   8.00000000e+01   1.00000000e+01   1.30000000e+01]\n",
      "[  0.1763139  80.          8.         10.       ]\n",
      "[  0.376371  78.         6.        14.      ]\n"
     ]
    }
   ],
   "source": [
    "### First, let look at which features have a high correlation\n",
    "\n",
    "### Since most zeros are just replaced N/A, we'll get really high correlations\n",
    "### if we don't remove zero values. We'll remove them instead\n",
    "\n",
    "### Function takes two vectors of equal length, \n",
    "### and returns correlation of all non-zero pairs, and the number of non-zero pairs\n",
    "def corr_no_zeros(x,y):\n",
    "    arr = np.column_stack((x,y))\n",
    "    \n",
    "    #Make sure both values are not zero\n",
    "    mask = (arr[:,0] != 0) & (arr[:,1] != 0)\n",
    "    \n",
    "    #Find the correlation between the remaining vector\n",
    "    np.corrcoef(arr[mask].T)[0,1]\n",
    "    \n",
    "    return np.corrcoef(arr[mask].T)[0,1], len(arr[mask])\n",
    "\n",
    "#Check correlation between all features and store in array\n",
    "corr_arr = np.zeros((0,4))\n",
    "\n",
    "for i in range(1, len(data[0])-1):\n",
    "    for j in range(i+1, len(data[0])):\n",
    "        cnz = corr_no_zeros(data[:,i],data[:,j])\n",
    "        corr_arr = np.append(corr_arr,np.array([cnz[0],cnz[1],i,j]).reshape((1,4)),axis = 0)\n",
    "\n",
    "#Sort result so we can inspect good options for PCA\n",
    "first_row_sort_idx = corr_arr.argsort(axis = 0)[:,1]\n",
    "\n",
    "#Flip around\n",
    "corr_arr = corr_arr[first_row_sort_idx][::-1]\n",
    "\n",
    "\n",
    "#Inspect\n",
    "print \"Correlation - Remaining Rows - Feature # - Feature #\"\n",
    "for i in range(0,25):\n",
    "    print corr_arr[i,:]"
   ]
  },
  {
   "cell_type": "code",
   "execution_count": 82,
   "metadata": {
    "collapsed": false
   },
   "outputs": [
    {
     "name": "stdout",
     "output_type": "stream",
     "text": [
      "total_payments\n",
      "exercised_stock_options\n",
      "restricted_stock\n",
      "total_stock_value\n"
     ]
    }
   ],
   "source": [
    "### Looking at the results from above, 4,7 and 5 all correlate strongly with 10\n",
    "### as wel as mostly non-zero for both values\n",
    "### We'll have a look at those\n",
    "print features_list[4]\n",
    "print features_list[5]\n",
    "print features_list[7]\n",
    "print features_list[10]\n",
    "\n",
    "### Looking at what these represent, it's obvious why (they sum up to 10)\n",
    "### instead of doing a PCA, an option is to remove 10 from the dataset"
   ]
  },
  {
   "cell_type": "code",
   "execution_count": 83,
   "metadata": {
    "collapsed": false
   },
   "outputs": [
    {
     "name": "stdout",
     "output_type": "stream",
     "text": [
      "total_payments\n",
      "other\n"
     ]
    }
   ],
   "source": [
    "### 14 and 4 have a correlation of 0.82 with many non-zero values.\n",
    "print features_list[4]\n",
    "print features_list[14]"
   ]
  },
  {
   "cell_type": "code",
   "execution_count": 84,
   "metadata": {
    "collapsed": false
   },
   "outputs": [
    {
     "name": "stdout",
     "output_type": "stream",
     "text": [
      "[[ 1.          0.83010504]\n",
      " [ 0.83010504  1.        ]]\n"
     ]
    },
    {
     "data": {
      "text/plain": [
       "(-20000, 6000000)"
      ]
     },
     "execution_count": 84,
     "metadata": {},
     "output_type": "execute_result"
    },
    {
     "data": {
      "image/png": "[encoded data removed]",
      "text/plain": [
       "<matplotlib.figure.Figure at 0x16196518>"
      ]
     },
     "metadata": {},
     "output_type": "display_data"
    }
   ],
   "source": [
    "xidx = 4\n",
    "yidx = 14\n",
    "\n",
    "plt.scatter(data[:,xidx],data[:,yidx],c = ['b' if x == 0 else 'r' for x in labels ])\n",
    "\n",
    "print np.corrcoef(data[:,xidx],data[:,yidx])\n",
    "\n",
    "plt.ylim([-50000,3000000])\n",
    "plt.xlim([-20000,6000000])"
   ]
  },
  {
   "cell_type": "code",
   "execution_count": 85,
   "metadata": {
    "collapsed": false
   },
   "outputs": [
    {
     "name": "stdout",
     "output_type": "stream",
     "text": [
      "(143L, 21L)\n"
     ]
    }
   ],
   "source": [
    "### Combine 'other' and 'total_payments'\n",
    "from sklearn.decomposition import PCA\n",
    "\n",
    "X = np.column_stack((data[:,1],data[:,14]))\n",
    "\n",
    "pca = PCA(n_components=1)\n",
    "new_feature = pca.fit_transform(X)\n",
    "\n",
    "#Add the new computed vector at the end of the data matrix\n",
    "data_with_pca = np.c_[data,new_feature]\n",
    "print data_with_pca.shape"
   ]
  },
  {
   "cell_type": "markdown",
   "metadata": {},
   "source": [
    "###Part 4: Try some classifiers"
   ]
  },
  {
   "cell_type": "code",
   "execution_count": 100,
   "metadata": {
    "collapsed": false
   },
   "outputs": [],
   "source": [
    "#Function to quickly test out some different classifiers\n",
    "def test_classifier(clf_in, clf_name, params_in, features, labels):\n",
    "\n",
    "    skb = SelectKBest()\n",
    "    #pca = PCA()\n",
    "    clf = clf_in\n",
    "\n",
    "\n",
    "    pipe = Pipeline(steps=[(\"SKB\", skb), (clf_name, clf)]) #(\"PCA\",pca),\n",
    "\n",
    "    kbest_params = {\"SKB__k\": [8,10,12]}\n",
    "\n",
    "    #pca_params = {\"PCA__n_components\": range(4,9)}\n",
    "\n",
    "    #kbest_params.update(pca_params) \n",
    "    kbest_params.update(params_in)\n",
    "    \n",
    "    number_of_splits = 20\n",
    "    cv = StratifiedShuffleSplit(labels, number_of_splits, random_state = 16)\n",
    "\n",
    "    gs = grid_search.GridSearchCV(pipe,kbest_params,cv = cv, scoring = 'f1')\n",
    "    gs.fit(features,labels)\n",
    "\n",
    "    clf = gs.best_estimator_\n",
    "    prec = 0\n",
    "    rec = 0\n",
    "    sc = 0\n",
    "    for train,test in cv:\n",
    "        X_train = [features[i] for i in train]\n",
    "        Y_train = [labels[j] for j in train]\n",
    "\n",
    "        X_test = [features[i] for i in test]\n",
    "        Y_test = [labels[j] for j in test]\n",
    "\n",
    "        clf.fit(X_train,Y_train)\n",
    "\n",
    "        precision,recall,_,_ = precision_recall_fscore_support(clf.predict(X_test),Y_test,average = 'binary')\n",
    "        prec = prec + precision\n",
    "        rec = rec + recall\n",
    "        sc = sc + clf.score(X_test,Y_test)\n",
    "\n",
    "    print \"Best parameters\", gs.best_params_\n",
    "    print \"Score: \" ,sc/number_of_splits\n",
    "    print \"Precision: \", prec/number_of_splits\n",
    "    print \"Recall: \", rec/number_of_splits\n",
    "    print \"\"\n",
    "    \n",
    "    return gs"
   ]
  },
  {
   "cell_type": "code",
   "execution_count": 101,
   "metadata": {
    "collapsed": false
   },
   "outputs": [
    {
     "name": "stdout",
     "output_type": "stream",
     "text": [
      "First out is decision tree\n",
      "Best parameters {'DecisionTreeClassifier__min_samples_leaf': 4, 'DecisionTreeClassifier__random_state': 12, 'DecisionTreeClassifier__max_leaf_nodes': 5, 'SKB__k': 10, 'DecisionTreeClassifier__min_weight_fraction_leaf': 0, 'DecisionTreeClassifier__min_samples_split': 4, 'DecisionTreeClassifier__criterion': 'gini', 'DecisionTreeClassifier__max_features': 'auto'}\n",
      "Score:  0.853333333333\n",
      "Precision:  0.325\n",
      "Recall:  0.425\n",
      "\n",
      "\n",
      "Then comes Random Forest\n",
      "Best parameters {'RF__criterion': 'gini', 'SKB__k': 8, 'RF__n_estimators': 5, 'RF__max_features': 3, 'RF__random_state': 12}\n",
      "Score:  0.836666666667\n",
      "Precision:  0.25\n",
      "Recall:  0.3375\n",
      "\n"
     ]
    }
   ],
   "source": [
    "#Prepare data \n",
    "labels_w_pca, features_w_pca = targetFeatureSplit(data_with_pca)\n",
    "\n",
    "clf_dt = tree.DecisionTreeClassifier()\n",
    "dt_params = {\"DecisionTreeClassifier__min_samples_leaf\": [2,4,6],\n",
    "             \"DecisionTreeClassifier__min_samples_split\": [4,6,12],\n",
    "             \"DecisionTreeClassifier__min_weight_fraction_leaf\": [0,0.02],\n",
    "             \"DecisionTreeClassifier__criterion\": [\"gini\", \"entropy\"],\n",
    "             \"DecisionTreeClassifier__max_features\": [\"auto\"],\n",
    "             \"DecisionTreeClassifier__max_leaf_nodes\": [None,2,5],\n",
    "             \"DecisionTreeClassifier__random_state\": [12]}\n",
    "\n",
    "clf_rf = RandomForestClassifier()\n",
    "rf_params = {\"RF__n_estimators\":[5,10,50,200],\n",
    "              \"RF__criterion\": [\"gini\",\"entropy\"],\n",
    "              \"RF__max_features\": [3,5,8],\n",
    "              \"RF__random_state\": [12]}\n",
    "\n",
    "print \"First out is decision tree\"\n",
    "gs = test_classifier(clf_dt, \"DecisionTreeClassifier\", dt_params,features_w_pca,labels_w_pca)\n",
    "\n",
    "print \"\\nThen comes Random Forest\"\n",
    "gs = test_classifier(clf_rf, \"RF\", rf_params,features_w_pca,labels_w_pca)"
   ]
  },
  {
   "cell_type": "markdown",
   "metadata": {
    "collapsed": false
   },
   "source": [
    "### Task 5: Tune your classifier to achieve better than .3 precision and recall "
   ]
  },
  {
   "cell_type": "code",
   "execution_count": 96,
   "metadata": {
    "collapsed": false
   },
   "outputs": [],
   "source": [
    "#Prepare data\n",
    "labels, features = targetFeatureSplit(data)\n",
    "\n",
    "skb = SelectKBest(k = 12)\n",
    "features_skb = skb.fit_transform(features,labels)"
   ]
  },
  {
   "cell_type": "code",
   "execution_count": null,
   "metadata": {
    "collapsed": false
   },
   "outputs": [],
   "source": [
    "clf_dt = tree.DecisionTreeClassifier()\n",
    "dt_params = {\"min_samples_leaf\": [2,3,4,6],\n",
    "             \"min_samples_split\": [4,6,8],\n",
    "             \"min_weight_fraction_leaf\": [0,0.01,0.02],\n",
    "             \"criterion\": [\"gini\", \"entropy\"],\n",
    "             \"max_features\": [\"auto\"],\n",
    "             \"max_leaf_nodes\": [None,2,3,5],\n",
    "             \"random_state\": [12]}\n",
    "    \n",
    "number_of_splits = 300\n",
    "cv = StratifiedShuffleSplit(labels, number_of_splits, random_state = 16)\n",
    "\n",
    "gs = grid_search.GridSearchCV(clf_dt,dt_params,cv = cv, scoring = 'f1')\n",
    "gs.fit(features_skb,labels)\n",
    "\n",
    "clf = gs.best_estimator_\n",
    "prec = 0\n",
    "rec = 0\n",
    "sc = 0\n",
    "for train,test in cv:\n",
    "    X_train = [features[i] for i in train]\n",
    "    Y_train = [labels[j] for j in train]\n",
    "\n",
    "    X_test = [features[i] for i in test]\n",
    "    Y_test = [labels[j] for j in test]\n",
    "\n",
    "    clf.fit(X_train,Y_train)\n",
    "\n",
    "    precision,recall,_,_ = precision_recall_fscore_support(clf.predict(X_test),Y_test,average = 'binary')\n",
    "    prec = prec + precision\n",
    "    rec = rec + recall\n",
    "    sc = sc + clf.score(X_test,Y_test)\n",
    "\n",
    "print \"Best parameters\", gs.best_params_\n",
    "print \"Score: \" ,sc/number_of_splits\n",
    "print \"Precision: \", prec/number_of_splits\n",
    "print \"Recall: \", rec/number_of_splits\n",
    "print \"\""
   ]
  },
  {
   "cell_type": "code",
   "execution_count": 107,
   "metadata": {
    "collapsed": false
   },
   "outputs": [
    {
     "name": "stdout",
     "output_type": "stream",
     "text": [
      "['poi', 'salary', 'total_payments', 'exercised_stock_options', 'bonus', 'restricted_stock', 'shared_receipt_with_poi', 'total_stock_value', 'expenses', 'loan_advances', 'deferred_income', 'long_term_incentive', 'from_poi_to_this_person']\n"
     ]
    }
   ],
   "source": [
    "#Create the feature_list\n",
    "features_list_skb =  [i for (i, v) in zip(features_list[1:], skb.get_support()) if v]\n",
    "features_list_skb.insert(0,'poi')\n",
    "print features_list_skb"
   ]
  },
  {
   "cell_type": "code",
   "execution_count": 108,
   "metadata": {
    "collapsed": false
   },
   "outputs": [],
   "source": [
    "### Pass in the data_dict with 'TOTAL' removed\n",
    "my_dataset = data_dict\n",
    "\n",
    "### Dump it\n",
    "dump_classifier_and_data(clf, my_dataset, features_list_skb)"
   ]
  },
  {
   "cell_type": "code",
   "execution_count": null,
   "metadata": {
    "collapsed": true
   },
   "outputs": [],
   "source": []
  }
 ],
 "metadata": {
  "kernelspec": {
   "display_name": "Python 2",
   "language": "python",
   "name": "python2"
  },
  "language_info": {
   "codemirror_mode": {
    "name": "ipython",
    "version": 2
   },
   "file_extension": ".py",
   "mimetype": "text/x-python",
   "name": "python",
   "nbconvert_exporter": "python",
   "pygments_lexer": "ipython2",
   "version": "2.7.10"
  }
 },
 "nbformat": 4,
 "nbformat_minor": 0
}
