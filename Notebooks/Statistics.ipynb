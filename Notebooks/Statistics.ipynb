{
 "cells": [
  {
   "cell_type": "code",
   "execution_count": 2,
   "metadata": {
    "collapsed": false
   },
   "outputs": [
    {
     "name": "stdout",
     "output_type": "stream",
     "text": [
      "Populating the interactive namespace from numpy and matplotlib\n"
     ]
    }
   ],
   "source": [
    "%pylab inline\n",
    "import pandas as pd\n",
    "import matplotlib.pyplot as plt\n",
    "path = r'~\\Data Analyst Nanodegree\\Data\\WageData.csv'\n",
    "data = pd.read_csv(path)"
   ]
  },
  {
   "cell_type": "code",
   "execution_count": 19,
   "metadata": {
    "collapsed": false
   },
   "outputs": [
    {
     "data": {
      "text/plain": [
       "<matplotlib.collections.PathCollection at 0xbb6e828>"
      ]
     },
     "execution_count": 19,
     "metadata": {},
     "output_type": "execute_result"
    },
    {
     "data": {
      "image/png": "[encoded data removed]",
      "text/plain": [
       "<matplotlib.figure.Figure at 0xbadcbe0>"
      ]
     },
     "metadata": {},
     "output_type": "display_data"
    }
   ],
   "source": [
    "\n",
    "plt.scatter(data['Hours'],data['Hourly Rate'])"
   ]
  },
  {
   "cell_type": "code",
   "execution_count": 23,
   "metadata": {
    "collapsed": false
   },
   "outputs": [
    {
     "name": "stdout",
     "output_type": "stream",
     "text": [
      "Eruption Duration    3.487783\n",
      "dtype: float64\n",
      "Eruption Duration    4\n",
      "dtype: float64\n",
      "   Eruption Duration\n",
      "0              1.867\n",
      "1              4.500\n"
     ]
    },
    {
     "data": {
      "text/plain": [
       "array([[<matplotlib.axes._subplots.AxesSubplot object at 0x000000000BF23D68>]], dtype=object)"
      ]
     },
     "execution_count": 23,
     "metadata": {},
     "output_type": "execute_result"
    },
    {
     "data": {
      "image/png": "[encoded data removed]",
      "text/plain": [
       "<matplotlib.figure.Figure at 0xbf0a240>"
      ]
     },
     "metadata": {},
     "output_type": "display_data"
    }
   ],
   "source": [
    "path=r'~\\Data Analyst Nanodegree\\Data\\GeyserEruptions.csv'\n",
    "data = pd.read_csv(path)\n",
    "print data.mean()\n",
    "print data.median()\n",
    "print data.mode()\n",
    "\n",
    "data.hist(bins=20)"
   ]
  },
  {
   "cell_type": "code",
   "execution_count": 29,
   "metadata": {
    "collapsed": false
   },
   "outputs": [
    {
     "name": "stdout",
     "output_type": "stream",
     "text": [
      "1.29793889045\n",
      "1.13927121023\n",
      "1.38619561\n",
      "1.17736808603\n"
     ]
    }
   ],
   "source": [
    "path = r'~\\Data Analyst Nanodegree\\Data\\Geyser2.csv'\n",
    "data = pd.read_csv(path)\n",
    "\n",
    "print data['Eruption Population'].var(ddof=0)\n",
    "print data['Eruption Population'].std(ddof=0)\n",
    "\n",
    "print data['Eruption Sample'].var(ddof=0)\n",
    "print data['Eruption Sample'].std(ddof=0)"
   ]
  },
  {
   "cell_type": "code",
   "execution_count": 44,
   "metadata": {
    "collapsed": false
   },
   "outputs": [
    {
     "data": {
      "text/plain": [
       "one    2.454525\n",
       "dtype: float64"
      ]
     },
     "execution_count": 44,
     "metadata": {},
     "output_type": "execute_result"
    }
   ],
   "source": [
    "sample =  {'one':[17,18,18,20,15,21,21,22,23]}\n",
    "sampleFrame = pd.DataFrame(data=sample)\n",
    "sampleFrame.std(ddof=0)"
   ]
  },
  {
   "cell_type": "code",
   "execution_count": 54,
   "metadata": {
    "collapsed": false
   },
   "outputs": [
    {
     "data": {
      "text/plain": [
       "<matplotlib.collections.PathCollection at 0xd3bb828>"
      ]
     },
     "execution_count": 54,
     "metadata": {},
     "output_type": "execute_result"
    },
    {
     "data": {
      "image/png": "[encoded data removed]",
      "text/plain": [
       "<matplotlib.figure.Figure at 0xac0d438>"
      ]
     },
     "metadata": {},
     "output_type": "display_data"
    }
   ],
   "source": [
    "path = r'~\\Data Analyst Nanodegree\\Data\\HeightAndLength.csv'\n",
    "data = pd.read_csv(path)\n",
    "plt.scatter(data['Hand length (in)'],data['Height (in)'])"
   ]
  },
  {
   "cell_type": "code",
   "execution_count": 12,
   "metadata": {
    "collapsed": false
   },
   "outputs": [
    {
     "name": "stdout",
     "output_type": "stream",
     "text": [
      "92    100.956522\n",
      "dtype: float64\n",
      "92    14.977698\n",
      "dtype: float64\n",
      "3.30201342282\n"
     ]
    },
    {
     "data": {
      "image/png": "[encoded data removed]",
      "text/plain": [
       "<matplotlib.figure.Figure at 0xbfb86a0>"
      ]
     },
     "metadata": {},
     "output_type": "display_data"
    }
   ],
   "source": [
    "path = r'~\\Data Analyst Nanodegree\\Data\\IQ scores.csv'\n",
    "data = pd.read_csv(path)\n",
    "data.hist()\n",
    "print data.mean()\n",
    "print data.std(ddof=0)\n",
    "print (150-100.8)/14.9"
   ]
  },
  {
   "cell_type": "code",
   "execution_count": 17,
   "metadata": {
    "collapsed": false
   },
   "outputs": [
    {
     "name": "stdout",
     "output_type": "stream",
     "text": [
      "0.000149213    0.077275\n",
      "dtype: float64\n",
      "0.000149213    0.107213\n",
      "dtype: float64\n"
     ]
    }
   ],
   "source": [
    "path = r'~\\Data Analyst Nanodegree\\Data\\Engagement ratio.csv'\n",
    "data = pd.read_csv(path)\n",
    "print data.mean()\n",
    "print data.std(ddof=0)"
   ]
  },
  {
   "cell_type": "code",
   "execution_count": null,
   "metadata": {
    "collapsed": true
   },
   "outputs": [],
   "source": []
  }
 ],
 "metadata": {
  "kernelspec": {
   "display_name": "Python 2",
   "language": "python",
   "name": "python2"
  },
  "language_info": {
   "codemirror_mode": {
    "name": "ipython",
    "version": 2
   },
   "file_extension": ".py",
   "mimetype": "text/x-python",
   "name": "python",
   "nbconvert_exporter": "python",
   "pygments_lexer": "ipython2",
   "version": "2.7"
  }
 },
 "nbformat": 4,
 "nbformat_minor": 0
}
