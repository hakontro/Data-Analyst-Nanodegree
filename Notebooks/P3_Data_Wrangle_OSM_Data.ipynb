{
 "cells": [
  {
   "cell_type": "markdown",
   "metadata": {},
   "source": [
    "#Project 3: Data Wrangling Open Streetmaps Data\n",
    "---\n",
    "\n",
    "##References:\n",
    ">http://effbot.org/zone/element-iterparse.htm#incremental-parsing\n",
    "\n",
    ">https://www.aggdata.com/free/norway-postal-codes\n",
    "\n",
    "---\n",
    "\n",
    "##1. Problems encountered in the map\n",
    "####I decided to go for my hometown of Oslo, Norway, and naturally there was a bit of trouble with the non-English characters found there. I made two translation mappings, one for unicode and one for normal strings, for both small and capital æ,ø,å. Also, most of the addresses were missing a postal code.\n",
    "\n",
    "### Non-English characters\n",
    "#### The non-English characters in the dataset have different encodings, both unicode and standard. This called for two different approaches to translating these to the standard English representation of Scandinavian letters. I made two mappings in Python dicts, one for unicode and one for standard. Then, each streetname string was searched for the respective characters, and replaced with the English representation, e.g Ø was translated to Oe, æ was translated to ae. \n",
    "\n",
    "#### As an example, the name \"Bygdøy\" was translated to \"Bygdoey\".\n",
    "\n",
    "\n",
    "### Postal Codes\n",
    "#### A quite significant ammount of the entries (91,6%)  had postal code \"None\". I downloaded a spreadsheet with all post codes in Norway coupled with several positions from https://www.aggdata.com/free/norway-postal-codes. I removed those entries not from Oslo, saved as a csv and imported it with pandas. Taking a nearest-neighbour approach, I found the closest (L2-Norm) point with postal code for all those entries currently without a postal code, and made that the new postal code. Not always strictly correct of course, but better than nothing! \n",
    "#### I only did this for street addresses, since doing it for the entire data set would have been to heavy for my computer (finding nearest neighbour of 500k points to a set of 620 points).\n",
    "---\n",
    "\n",
    "##2. Overview of the data\n",
    "\n",
    "###File sizes\n",
    "#### oslo.osm .. 50,1 MB\n",
    "#### oslo.json .. 95,6 MB\n",
    "\n",
    "###Some selected data\n",
    "#### The number of documents in the set is 472,112, 417.088 of which are nodes and 55,024 are ways.\n",
    "db.oslo.find().count()\n",
    "list(db.oslo.aggregate(nodes_and_ways))\n",
    "\n",
    "nodes_and_ways = [{\"\\$group\":{\"_id\":\"\\$type\",\"count\":{\"\\$sum\":1 \\}\\}\\},{\"$sort\":{\"count\":-1}}]\n",
    "\n",
    "#### There are 454 distinct contributors, the most active being 'Turleder'n', who's commited 221,584 (46,9\\%)of the 472,112 documents.\n",
    "len(db.oslo.distinct('created.user'))\n",
    "list(db.oslo.aggregate(top_user))\n",
    "\n",
    "top_user = [{\"\\$group\":{\"_id\":\"\\$created.user\",\"count\":{\"\\$sum\":1\\}\\}\\},{\"\\$sort\":{\"count\":-1}},{\"\\$limit\":1}]\n",
    "\n",
    "#### There are 957 distinct street addresses in the set.\n",
    "len(db.oslo.distinct('address.street'))\n",
    "\n",
    "---\n",
    "\n",
    "##3. Other ideas about the dataset\n",
    "###Addresses per postal code\n",
    "####Though it would be interesting to see the number of addresses per top 5 postal codes, before and after the assignment algorithm had run on it.\n",
    "####Results before assignment from algorithm:\n",
    "None: 1223\n",
    "\n",
    "0374: 1060\n",
    "\n",
    "0375: 990\n",
    "\n",
    "0851: 842\n",
    "\n",
    "0373: 787\n",
    "\n",
    "####After algorithm\n",
    "0374: 1060\n",
    "\n",
    "0375: 992\n",
    "\n",
    "0851: 842\n",
    "\n",
    "0001: 840\n",
    "\n",
    "0373: 787\n",
    "\n",
    "####As we can see, most of the points were added to the post code 0001. \n",
    "\n",
    "#### I used the aggregation\n",
    "addresses_per_postal_code = [{\"\\$match\":{\"address\":{\"\\$exists\": True\\}\\}\\},{\"\\$group\":{\"_id\":\"\\$address.postcode\",\"count\":{\"\\$sum\":1}}},{\"\\$sort\":{\"count\":-1}\\},{\"$limit\":5}]\n",
    "\n",
    "###Different types of nodes\n",
    "#### 455 of the documents, with tag node or way, had a field for type in the dataset. I saved these types as type_2, and most of them turned out to be either individual(node) trees or lanes(way) of trees, all broad leaved trees.\n",
    "#### type_2 entries:\n",
    "#### broad_leaved, node: 411\n",
    "#### broad_leaved, way: 26\n",
    "#### Autopass, node: 12\n",
    "#### Route, way: 2\n",
    "#### public_transport, node: 2\n",
    "#### multi_polygon,way: 2\n",
    "\n",
    "####Found using:\n",
    "type_2 = [{\"\\$match\":{\"type_2\":{\"\\$exists\":True}}},{\"\\$group\":{\"_id\":{\"type\":\"\\$type\",\"type_2\":\"\\$type_2\"},\"count\":{\"\\$sum\":1}}},{\"\\$sort\":{\"count\":-1}}]\n",
    "\n",
    "###Dates of entries\n",
    "#### Having a look at the dates of the entries, we can see that most of the entries are from 2011, with 2014 coming in second. Histogram at the bottom of the submission.\n",
    "\n",
    "\n",
    "###Postal codes:\n",
    "#### It seems to have been a practice to not include postal code in a lot of the submissions. This could be changed by demanding an entry for the post code on certain entries. A better approach would be to obtain a sufficiently accurate mapping from position to postal code, and have it automatically added to the record upon submission. This should be pretty easy to implement (as long as such a mapping can be made), ensure data quality, all the while not making things any more complicated for the person submitting the entry.\n",
    "\n",
    "###Potential problem with translating characters\n",
    "####It's a posibility, however pretty rare, that when translating special characters to English standard, you'll change the old word into an already existing area name. In other words, there are distinct street names that would all of a sudden no longer be distinct. This could lead to confusion, and make the data less accurate. An option here is to add a new field informing that the name has been Englified whenever a letter has been changed, to distinguish between Overaa (Translated from Overå) vs. Overaa (not translated from anything).\n",
    "\n",
    "---\n",
    "\n",
    "##4. Conclusion\n",
    "#### The biggest problem found with the dataset is the almost complete lack of postal codes. I made an attempt at fixing this with my new code, but the resolution of points per postal code isn't very high, so it's highly likely that some points now have a wrong postal code. Whether a change like that is acceptable is hard to determine without knowing the application for the data, but I did it anyways.\n",
    "\n",
    "----"
   ]
  },
  {
   "cell_type": "markdown",
   "metadata": {},
   "source": [
    "#The code:"
   ]
  },
  {
   "cell_type": "code",
   "execution_count": 12,
   "metadata": {
    "collapsed": false
   },
   "outputs": [
    {
     "name": "stdout",
     "output_type": "stream",
     "text": [
      "Populating the interactive namespace from numpy and matplotlib\n"
     ]
    },
    {
     "name": "stderr",
     "output_type": "stream",
     "text": [
      "WARNING: pylab import has clobbered these variables: ['f']\n",
      "`%matplotlib` prevents importing * from pylab and numpy\n"
     ]
    }
   ],
   "source": [
    "import xml.etree.ElementTree as ET\n",
    "import pprint\n",
    "import re\n",
    "import codecs\n",
    "import json\n",
    "import time\n",
    "from pymongo import MongoClient\n",
    "%pylab inline\n",
    "file_path = 'C:\\Users\\hakon.tromborg\\Data Analyst Nanodegree\\Data\\\\oslo.osm'"
   ]
  },
  {
   "cell_type": "code",
   "execution_count": 13,
   "metadata": {
    "collapsed": false
   },
   "outputs": [],
   "source": [
    "lower = re.compile(r'^([a-z]|_)*$')\n",
    "lower_colon = re.compile(r'^([a-z]|_)*:([a-z]|_)*$')\n",
    "problemchars = re.compile(r'[=\\+/&<>;\\'\"\\?%#$@\\,\\. \\t\\r\\n]')\n",
    "\n",
    "CREATED = [ \"version\", \"changeset\", \"timestamp\", \"user\", \"uid\"]\n",
    "\n",
    "#json->MongoDB can't handle the Norwegian letters, so I'm mapping them to their official [a-z] equivalents for both unicode\n",
    "#and normal strings\n",
    "letter_map = {u\"Å\":'Aa',\n",
    "              u\"Ø\":'Oe',\n",
    "              u\"Æ\":'Ae',\n",
    "              u\"å\":\"aa\",\n",
    "              u\"ø\":\"oe\",\n",
    "              u\"æ\":\"ae\"}\n",
    "unicode_map = {u\"\\xc5\":'Aa',\n",
    "              u\"\\xd8\":'Oe',\n",
    "              u\"\\xc6\":'Ae',\n",
    "              u\"\\xe5\":\"aa\",\n",
    "              u\"\\xf8\":\"oe\",\n",
    "              u\"\\xe6\":\"ae\"}"
   ]
  },
  {
   "cell_type": "code",
   "execution_count": 14,
   "metadata": {
    "collapsed": false
   },
   "outputs": [],
   "source": [
    "#Code to approximate the postcodes\n",
    "\n",
    "import pandas as pd\n",
    "#Downloaded poisitions for Oslo's post codes from \n",
    "#https://www.aggdata.com/free/norway-postal-codes\n",
    "df = pd.read_csv('C:\\Users\\hakon.tromborg\\Data Analyst Nanodegree\\Data\\\\postcode_oslo.csv')\n",
    "\n",
    "df['Postal Code String'] = (3*'0' +  df['Postal Code'].astype(str))\n",
    "f = lambda x: x[-4:]\n",
    "df['Postal Code String'] = df['Postal Code String'].apply(f)\n",
    "\n",
    "def get_post_code(lat,lon,df):\n",
    "    min = Inf\n",
    "    for x in xrange(df.shape[0]):\n",
    "        s = (double(lat)-df['Latitude'][x])**2+(double(lon)-df['Longitude'][x])**2\n",
    "        if(s<min):\n",
    "            min = s\n",
    "            best = df['Postal Code String'][x]\n",
    "    return best"
   ]
  },
  {
   "cell_type": "code",
   "execution_count": 15,
   "metadata": {
    "collapsed": false
   },
   "outputs": [],
   "source": [
    "#From chapter 6\n",
    "def process_map(file_in, pretty = False):\n",
    "    # You do not need to change this file\n",
    "    file_out = \"{0}.json\".format(file_in)\n",
    "    data = []\n",
    "    with codecs.open(file_out, \"w\") as fo:\n",
    "        # get an iterable\n",
    "        context = ET.iterparse(file_in, events=(\"start\", \"end\"))\n",
    "\n",
    "        # turn it into an iterator\n",
    "        context = iter(context)\n",
    "        \n",
    "        # get the root element\n",
    "        event, root = context.next()\n",
    "        \n",
    "        \n",
    "        for _, element in context:\n",
    "            el = shape_element(element)\n",
    "            if el:\n",
    "                data.append(el)\n",
    "                #fo.write(json.dumps(el) + \"\\n\")\n",
    "            root.clear()\n",
    "        fo.write(json.dumps(data) + \"\\n\")"
   ]
  },
  {
   "cell_type": "code",
   "execution_count": 16,
   "metadata": {
    "collapsed": false
   },
   "outputs": [],
   "source": [
    "def shape_element(element):\n",
    "    node = {}\n",
    "    \n",
    "    node['created'] = {}\n",
    "    if element.tag in [\"node\",\"way\"]:\n",
    "        node['type'] = element.tag\n",
    "        if element.tag == \"way\":\n",
    "            node['node_refs'] = []\n",
    "            for it in element.iter(\"nd\"):\n",
    "                node['node_refs'].append(it.attrib['ref'])\n",
    "\n",
    "        for a in element.attrib:\n",
    "            if a in CREATED:\n",
    "                node['created'][a] = element.attrib[a]\n",
    "            elif a == 'pos' or 'lat':\n",
    "                #Ensure 'pos' only shows up in documents with a latitude/longitude\n",
    "                if 'pos' not in node:\n",
    "                    node['pos'] = [\"0\",\"0\"]\n",
    "                if a == \"lat\":\n",
    "                    node['pos'][0]=(float(element.attrib[a]))\n",
    "                elif a == \"lon\":\n",
    "                    node['pos'][1]=(float(element.attrib[a]))\n",
    "            else:\n",
    "                node[a] = element.attrib[a]\n",
    "                \n",
    "\n",
    "        for it in element.iter(\"tag\"):\n",
    "            #Skip the iteration and drop the element if problemchars are discovered\n",
    "            e = problemchars.search(it.attrib['k'])\n",
    "            if e:\n",
    "                continue\n",
    "                \n",
    "            elif it.attrib['k'][:5] == \"addr:\":\n",
    "                if 'address' not in node:\n",
    "                    node['address'] = {}\n",
    "                c = it.attrib['k'].split(':')\n",
    "                \n",
    "                #If c is 2, there's exactly one : in the string, which is the format we're looking for\n",
    "                if len(c) == 2:\n",
    "                    translated_string = translate_string(it.attrib['v'])\n",
    "                    #Translating Norwegian letters proved more difficult than expected \n",
    "                    #because the set contains both unicode and normal strings\n",
    "                    node['address'][it.attrib['k'][5:]] = translated_string\n",
    "            elif (it.attrib['k'] == \"type\") and (it.attrib['k'] not in [\"node\",\"way\"]) :\n",
    "                node['type_2'] = it.attrib['v']\n",
    "            \n",
    "            else:    \n",
    "                node[it.attrib['k']] = it.attrib['v']\n",
    "        if 'address' in node:\n",
    "            if 'postcode' not in node['address']:\n",
    "                node['address']['postcode'] = get_post_code(node['pos'][0],node['pos'][1],df)\n",
    "        return node\n",
    "    else:\n",
    "        return None\n",
    "    \n",
    "def translate_string(str):\n",
    "    if type(str) is unicode:\n",
    "        translated_string = translate_unicode(str)\n",
    "        return translated_string\n",
    "    else:\n",
    "        translated_string = translate_utf(str)\n",
    "        return translated_string\n",
    "    \n",
    "def translate_unicode(addr):\n",
    "    for l in unicode_map:\n",
    "        if l in list(addr):\n",
    "            #using if l in letter_map crashes with unicode characters because illegal decodings are attempted\n",
    "            addr = [c.replace(l, unicode_map[l]) for c in list(addr)]\n",
    "            addr = ''.join(addr)\n",
    "    return addr\n",
    "def translate_utf(addr):\n",
    "    for l in letter_map:\n",
    "        if l in addr:\n",
    "            addr = addr.replace(l,letter_map[l])\n",
    "    return addr"
   ]
  },
  {
   "cell_type": "code",
   "execution_count": 17,
   "metadata": {
    "collapsed": true
   },
   "outputs": [],
   "source": [
    "def process_file():\n",
    "    data = process_map(file_path, False)"
   ]
  },
  {
   "cell_type": "code",
   "execution_count": 18,
   "metadata": {
    "collapsed": false,
    "scrolled": false
   },
   "outputs": [
    {
     "name": "stdout",
     "output_type": "stream",
     "text": [
      "53.1920001507\n"
     ]
    }
   ],
   "source": [
    "t0 = time.time()\n",
    "process_file()\n",
    "print time.time()-t0"
   ]
  },
  {
   "cell_type": "code",
   "execution_count": 19,
   "metadata": {
    "collapsed": true
   },
   "outputs": [],
   "source": [
    "#!/usr/bin/env python\n",
    "# -*- coding: utf-8 -*-\n",
    "\n",
    "OSM_FILE = file_path  # Replace this with your osm file\n",
    "SAMPLE_FILE = \"C:\\Users\\hakon.tromborg\\Data Analyst Nanodegree\\Data\\\\oslo_sample.osm\"\n",
    "\n",
    "\n",
    "def get_element(osm_file, tags=('node', 'way', 'relation')):\n",
    "    \"\"\"Yield element if it is the right type of tag\n",
    "\n",
    "    Reference:\n",
    "    http://stackoverflow.com/questions/3095434/inserting-newlines-in-xml-file-generated-via-xml-etree-elementtree-in-python\n",
    "    \"\"\"\n",
    "    context = ET.iterparse(osm_file, events=('start', 'end'))\n",
    "    _, root = next(context)\n",
    "    for event, elem in context:\n",
    "        if event == 'end' and elem.tag in tags:\n",
    "            yield elem\n",
    "            root.clear()\n",
    "\n",
    "\n",
    "with open(SAMPLE_FILE, 'wb') as output:\n",
    "    output.write('<?xml version=\"1.0\" encoding=\"UTF-8\"?>\\n')\n",
    "    output.write('<osm>\\n  ')\n",
    "\n",
    "    # Write every 10th top level element\n",
    "    for i, element in enumerate(get_element(OSM_FILE)):\n",
    "        if i % 10 == 0:\n",
    "            output.write(ET.tostring(element, encoding='utf-8'))\n",
    "\n",
    "    output.write('</osm>')"
   ]
  },
  {
   "cell_type": "code",
   "execution_count": 19,
   "metadata": {
    "collapsed": true
   },
   "outputs": [],
   "source": [
    "def insert_data(data, db):\n",
    "    db.oslo.insert(data)"
   ]
  },
  {
   "cell_type": "code",
   "execution_count": 20,
   "metadata": {
    "collapsed": false,
    "scrolled": false
   },
   "outputs": [
    {
     "name": "stdout",
     "output_type": "stream",
     "text": [
      "35.876999855\n"
     ]
    }
   ],
   "source": [
    "client = MongoClient(\"mongodb://localhost:27017\")\n",
    "db = client.oslo\n",
    "#Clear the database to avoid adding multiple records\n",
    "db.oslo.remove()\n",
    "\n",
    "t0 = time.time()\n",
    "with open(file_path + '.json') as f:\n",
    "        data = json.loads(f.read())\n",
    "        insert_data(data, db)\n",
    "print time.time()-t0"
   ]
  },
  {
   "cell_type": "code",
   "execution_count": 21,
   "metadata": {
    "collapsed": false
   },
   "outputs": [
    {
     "name": "stdout",
     "output_type": "stream",
     "text": [
      "Number of records:\n",
      "472112\n",
      "Number of nodes and ways:\n",
      "[{u'_id': u'node', u'count': 417088}, {u'_id': u'way', u'count': 55024}]\n",
      "Number of unique users:\n",
      "454\n",
      "Top contributing user:\n",
      "[{u'count': 221584, u'_id': u\"Turleder'n\"}]\n",
      "Distinct street addresses in set:\n",
      "957\n",
      "Distinct postal codes: \n",
      "215\n",
      "Number of addresses per postal code: \n",
      "[{u'count': 1064, u'_id': u'0374'}, {u'count': 992, u'_id': u'0375'}, {u'count': 842, u'_id': u'0851'}, {u'count': 840, u'_id': u'0001'}, {u'count': 787, u'_id': u'0373'}]\n"
     ]
    }
   ],
   "source": [
    "nodes_and_ways = [{\"$group\":{\"_id\":\"$type\",\n",
    "                      \"count\":{\"$sum\":1}}},\n",
    "            {\"$sort\":{\"count\":-1}}\n",
    "                 ]\n",
    "\n",
    "top_user = [{\"$group\":{\"_id\":\"$created.user\",\n",
    "                            \"count\":{\"$sum\":1}}},\n",
    "                           {\"$sort\":{\"count\":-1}},\n",
    "                           {\"$limit\":1}]\n",
    "addresses_per_postal_code = [{\"$match\":{\"address\":{\"$exists\": True}}},\n",
    "                            {\"$group\":{\"_id\":\"$address.postcode\",\n",
    "                            \"count\":{\"$sum\":1}}},\n",
    "                           {\"$sort\":{\"count\":-1}},\n",
    "                            {\"$limit\":5}]\n",
    "\n",
    "print \"Number of records:\"\n",
    "print db.oslo.find().count()\n",
    "\n",
    "print \"Number of nodes and ways:\"\n",
    "pprint.pprint(list(db.oslo.aggregate(nodes_and_ways)))\n",
    "\n",
    "print \"Number of unique users:\"\n",
    "print len(db.oslo.distinct('created.user'))\n",
    "\n",
    "print \"Top contributing user:\"\n",
    "print list(db.oslo.aggregate(top_user))\n",
    "\n",
    "print \"Distinct street addresses in set:\"\n",
    "print len(db.oslo.distinct('address.street'))\n",
    "\n",
    "print \"Distinct postal codes: \"\n",
    "print len(db.oslo.distinct('address.postcode'))\n",
    "\n",
    "print \"Number of addresses per postal code: \"\n",
    "print list(db.oslo.aggregate(addresses_per_postal_code))"
   ]
  },
  {
   "cell_type": "code",
   "execution_count": 10,
   "metadata": {
    "collapsed": false
   },
   "outputs": [
    {
     "name": "stdout",
     "output_type": "stream",
     "text": [
      "[{u'count': 431677, u'_id': u\"address'postcode\"}]\n",
      "[{u'count': 411, u'_id': {u'type_2': u'broad_leaved', u'type': u'node'}}, {u'count': 26, u'_id': {u'type_2': u'broad_leaved', u'type': u'way'}}, {u'count': 12, u'_id': {u'type_2': u'Autopass', u'type': u'node'}}, {u'count': 2, u'_id': {u'type_2': u'multipolygon', u'type': u'way'}}, {u'count': 2, u'_id': {u'type_2': u'route', u'type': u'way'}}, {u'count': 2, u'_id': {u'type_2': u'public_transport', u'type': u'node'}}]\n"
     ]
    }
   ],
   "source": [
    "addresses_no_postal_code = [{\"$match\":{\"address.postcode\":None}},\n",
    "                            {\"$group\":{\"_id\":\"address'postcode\",#{\"type\":\"$type\",\"type_2\":\"$type_2\"},\n",
    "                            \"count\":{\"$sum\":1}}},\n",
    "                           {\"$sort\":{\"count\":-1}},\n",
    "                            {\"$limit\":10}]\n",
    "\n",
    "type_2 = [{\"$match\":{\"type_2\":{\"$exists\":True}}},\n",
    "                            {\"$group\":{\"_id\":{\"type\":\"$type\",\"type_2\":\"$type_2\"},\n",
    "                            \"count\":{\"$sum\":1}}},\n",
    "                           {\"$sort\":{\"count\":-1}}\n",
    "                            ]\n",
    "\n",
    "print list(db.oslo.aggregate(addresses_no_postal_code))\n",
    "\n",
    "\n",
    "print list(db.oslo.aggregate(type_2))"
   ]
  },
  {
   "cell_type": "code",
   "execution_count": 11,
   "metadata": {
    "collapsed": false
   },
   "outputs": [
    {
     "data": {
      "text/plain": [
       "array([[<matplotlib.axes._subplots.AxesSubplot object at 0x000000000BC00A20>]], dtype=object)"
      ]
     },
     "execution_count": 11,
     "metadata": {},
     "output_type": "execute_result"
    },
    {
     "data": {
      "image/png": "[encoded data removed]",
      "text/plain": [
       "<matplotlib.figure.Figure at 0x50ce1e48>"
      ]
     },
     "metadata": {},
     "output_type": "display_data"
    }
   ],
   "source": [
    "import pandas as pd\n",
    "times = db.oslo.distinct('created.timestamp')\n",
    "for x,t in enumerate(times):\n",
    "    times[x] = int(times[x][:4])\n",
    "#print sorted(times)\n",
    "d = pd.DataFrame(sorted(times))\n",
    "d.hist(bins = 11)"
   ]
  },
  {
   "cell_type": "code",
   "execution_count": null,
   "metadata": {
    "collapsed": true
   },
   "outputs": [],
   "source": []
  }
 ],
 "metadata": {
  "kernelspec": {
   "display_name": "Python 2",
   "language": "python",
   "name": "python2"
  },
  "language_info": {
   "codemirror_mode": {
    "name": "ipython",
    "version": 2
   },
   "file_extension": ".py",
   "mimetype": "text/x-python",
   "name": "python",
   "nbconvert_exporter": "python",
   "pygments_lexer": "ipython2",
   "version": "2.7.10"
  }
 },
 "nbformat": 4,
 "nbformat_minor": 0
}
