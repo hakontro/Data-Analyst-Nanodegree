{
 "cells": [
  {
   "cell_type": "code",
   "execution_count": 212,
   "metadata": {
    "collapsed": false
   },
   "outputs": [
    {
     "name": "stdout",
     "output_type": "stream",
     "text": [
      "Populating the interactive namespace from numpy and matplotlib\n"
     ]
    },
    {
     "name": "stderr",
     "output_type": "stream",
     "text": [
      "WARNING: pylab import has clobbered these variables: ['xlim', 'ylim']\n",
      "`%matplotlib` prevents importing * from pylab and numpy\n"
     ]
    }
   ],
   "source": [
    "import pandas as pd\n",
    "import numpy as np\n",
    "import scipy\n",
    "import datetime\n",
    "from ggplot import *\n",
    "import seaborn as sns\n",
    "import statsmodels.api as sm\n",
    "%pylab inline"
   ]
  },
  {
   "cell_type": "markdown",
   "metadata": {},
   "source": [
    "##Section 0. References\n",
    "#### Mann-Whitney test  https://storage.googleapis.com/supplemental_media/udacityu/4332539257/MannWhitneyUTest.pdf\n",
    "####Seaborn documentation http://stanford.edu/~mwaskom/software/seaborn/index.html\n",
    "***"
   ]
  },
  {
   "cell_type": "markdown",
   "metadata": {},
   "source": [
    "##Section 1. Statistical Test\n",
    "###1.1 Which statistical test did you use?\n",
    "#### To analyze the subway data I used a two-tailed Mann-Whitney U-Test. The null (and alternative) hypothesis of the test was:\n",
    "$$\n",
    "H_0:P(x_R>x_D) = 0.5\\\\\n",
    "H_A:P(x_R>x_D) \\ne 0.5\n",
    "$$\n",
    "#### Here $x_R$ denotes a draw from the sample of rainy days, and $x_D$ denotes a sample from the dry days (non-rainy). The chosen critical value for $p$ was $p<0.05$.\n",
    "\n",
    "###1.2 Why is the statistical test applicable to the data set?\n",
    "#### The Mann-Whitney U-test is applicable because it deals with samples where we don't know the particular statistical distribution. The distribution of ridership certainly doesn't look like a normal distribution, and so the Mann-Whitney will have to do.\n",
    "\n",
    "###1.3 What results did you get from the statistical test?\n",
    "#### The result of the Mann-Whitney test was: \n",
    "$$\n",
    "U = 1924409167\\\\\n",
    "p = 0.0249999\n",
    "$$\n",
    "#### The two means were 1105 entries per hour when rain, and 1090 entries per hour when there was no rain.\n",
    "\n",
    "###1.4 What is the significance and interpretation of this result?\n",
    "#### The interpretation of this result is that the null hypothesis is rejected with a significance $p<0.05$, given our sample there's a 95% chance that there's an actual difference between the two averages.\n",
    "#### A bonus interpretation is that the data likely have been altered by humans to give a p-value so incredibly close to $0.025$!\n",
    "*****"
   ]
  },
  {
   "cell_type": "markdown",
   "metadata": {},
   "source": [
    "##Section 2. Linear Regression\n",
    "###2.1 What approach did you use to compute the coefficients theta and produce prediction for ENTRIESn_hourly in your regression model?\n",
    "#### a: I used OLS from statsmodels.\n",
    "\n",
    "###2.2 What features (input variables) did you use in your model? Did you use any dummy variables as part of your features?\n",
    "#### I used rain, fog, hour and meantempi. I also included the units as dummy variables.\n",
    "\n",
    "###2.3 Why did you select these features in your model?\n",
    "#### I used Rain, fog, hour and meantempi. I though fog, rain and maentempi were the clearest indicators of a certain weather condition, and thus more likely to have a definite effect on the choice of subway riders. It's harder to believe that for example air pressure would make people take the same choice every time, and so I thought it would be less effective on the riders. Hour experimentally seemed to be the biggest indicator, unsurprisingly, as time of day and routines normally override weather when it comes to subway ridership (fog, or certain average air pressures, normally don't stop people form going to work at 08.00 in the morning.)\n",
    "\n",
    "###2.4 What are the parameters (also known as \"coefficients\" or \"weights\") of the non-dummy features in your linear regression model?\n",
    "####fog: 176.587733\n",
    "####meantempi: -12.198258\n",
    "####rain: -20.254019\n",
    "####Hour: 65.323911\n",
    "\n",
    "###2.5 What is your model’s $R^2$ (coefficients of determination) value?\n",
    "#### The $R^2$ is 0.479832970696.\n",
    "\n",
    "###2.6 What does this R2 value mean for the goodness of fit for your regression model?\n",
    "#### It means that the sum of the squares of the residuals (difference between model and observation) is smaller than the sum of the variances, approximately half the size. It indicates that the model linear approximation fits better than simply using the mean as model, however not by very much. The fraction term in the formula for $R^2$ equals approximately 0.52, and so the sum of squares of residuals is more than half of the total sum of squares. The $R^2$ indicates that the model is in the right direction, being a bit better than the mean, but depending on the desired accuracy of prediction this $R^2$ value alone might indicate that the linear model isn't very useful. \n",
    "***"
   ]
  },
  {
   "cell_type": "markdown",
   "metadata": {},
   "source": [
    "##Section 3. Visualization\n",
    "###3.1 Histograms of ENTRIESn_hourly with and without rain."
   ]
  },
  {
   "cell_type": "code",
   "execution_count": 152,
   "metadata": {
    "collapsed": false,
    "scrolled": false
   },
   "outputs": [
    {
     "data": {
      "image/png": "[encoded data removed]",
      "text/plain": [
       "<matplotlib.figure.Figure at 0x29d18048>"
      ]
     },
     "metadata": {},
     "output_type": "display_data"
    }
   ],
   "source": [
    "path = 'C:\\Users\\hakon.tromborg\\Data Analyst Nanodegree\\Data\\weather_turnstile.csv'\n",
    "data = pd.read_csv(path)\n",
    "\n",
    "##Plotting the non-rainy days in the first subplot\n",
    "ax1 = plt.subplot(211)\n",
    "ax1.set_xlim(0,6000)\n",
    "ax1.hist(data['ENTRIESn_hourly'][(data['rain']==0)],bins=200)\n",
    "ax1.set_title(\"Histogram of ENTRIESn_hourly on dry days\")\n",
    "\n",
    "##Plotting the rainy days in the second subplot\n",
    "ax2 = plt.subplot(212)\n",
    "ax2.set_xlim(0,6000)\n",
    "ax2.hist(data['ENTRIESn_hourly'][data['rain']==1].reset_index(drop=True), bins = 200)\n",
    "ax2.set_title(\"Histogram of ENTRIESn_hourly on rainy days\")\n",
    "\n",
    "#Make sure x-axis of subplot 1 doesn't overlap with title of subplot 2\n",
    "plt.tight_layout()\n"
   ]
  },
  {
   "cell_type": "markdown",
   "metadata": {},
   "source": [
    "###3.2 Freeform visualisation"
   ]
  },
  {
   "cell_type": "code",
   "execution_count": 241,
   "metadata": {
    "collapsed": false
   },
   "outputs": [
    {
     "data": {
      "text/plain": [
       "<matplotlib.axes._subplots.AxesSubplot at 0x364f3588>"
      ]
     },
     "execution_count": 241,
     "metadata": {},
     "output_type": "execute_result"
    },
    {
     "data": {
      "image/png": "[encoded data removed]",
      "text/plain": [
       "<matplotlib.figure.Figure at 0x31196ba8>"
      ]
     },
     "metadata": {},
     "output_type": "display_data"
    },
    {
     "data": {
      "image/png": "[encoded data removed]",
      "text/plain": [
       "<matplotlib.figure.Figure at 0x36b3bf98>"
      ]
     },
     "metadata": {},
     "output_type": "display_data"
    }
   ],
   "source": [
    "path = 'C:\\Users\\hakon.tromborg\\Data Analyst Nanodegree\\Data\\weather_turnstile.csv'\n",
    "data = pd.read_csv(path)\n",
    "data['datetime']=pd.to_datetime(data['datetime'])\n",
    "\n",
    "#Small function to get weekday, and then group the frame by it\n",
    "getweekday =  lambda x: x.weekday()\n",
    "getweekno = lambda x: x.isocalendar()[1]\n",
    "data['weekday'] = data['datetime'].map(getweekday)\n",
    "data['weekno'] = data['datetime'].map(getweekno)\n",
    "grouped_by_weekday_norain = data[data['rain']==0].groupby('weekday')\n",
    "grouped_by_weekday_rain = data[data['rain']==1].groupby('weekday')\n",
    "\n",
    "#Getting dem days in the proper order :D\n",
    "x = np.array([\"Monday\",\"Tuesday\",\"Wednesday\", \"Thursday\",\"Friday\",\"Saturday\",\"Sunday\"])\n",
    "\n",
    "#Plot two bar charts with seaborn\n",
    "f1, (ax1,ax2) = plt.subplots(2, 1, figsize=(8, 6), sharex=True)\n",
    "\n",
    "sns.barplot(x=x, y=grouped_by_weekday_rain.mean()['ENTRIESn_hourly'], palette=sns.dark_palette(\"purple\",7), ax=ax1)\n",
    "\n",
    "sns.barplot(x=x, y=grouped_by_weekday_norain.mean()['ENTRIESn_hourly'], palette=sns.color_palette(\"coolwarm\",7), ax=ax2)\n",
    "\n",
    "#Set labels\n",
    "ax1.set_ylabel(\"Rain\")\n",
    "ax2.set_ylabel(\"No rain\")\n",
    "\n",
    "#Set title\n",
    "f1.suptitle(\"Average numbr of riders per weekday\")\n",
    "\n",
    "#Make an informative heatmap from a pivot table!\n",
    "f2,ax3 = plt.subplots(1, 1, figsize=(8, 6), sharex=True)\n",
    "pivot_table = data.pivot_table('ENTRIESn_hourly','weekno','weekday',aggfunc=np.sum)\n",
    "f2.suptitle(\"Total number of riders per day\")\n",
    "sns.heatmap(pivot_table,linewidths=.3,\n",
    "            cmap=\"YlGnBu\",\n",
    "            xticklabels=[\"Monday\",\"Tuesday\",\"Wednesday\", \"Thursday\",\"Friday\",\"Saturday\",\"Sunday\"])"
   ]
  },
  {
   "cell_type": "markdown",
   "metadata": {},
   "source": [
    "## Section 4. Conclusion\n",
    "### 4.1 From your analysis and interpretation of the data, do more people ride the NYC subway when it is raining or when it is not raining?  \n",
    "#### More people ride it when it's raining.\n",
    "### 4.2 What analyses lead you to this conclusion? \n",
    "#### Mainly the Mann-Whitney test, which gave a 95% confidence in there being a difference in the means of ridership on rainy versus non-rainy days. As the rainy days had a higher mean, this indicates that they are the days with the most riders. \n",
    "####However, looking at the regression model for predicting number of entries, the rain constant has a negative value. In other words, if there's rain (rain = 1) the model predicts a lower value for the ridership. Oops. How can this be?\n",
    "#### The linear model has a pretty high value for the foggy days, and if rain and fog commonly appear together, the special case where there's rain but no fog might actually not lead to more riders of the subway. Removing fog as a factor from the OLS actually puts the constant for rain back to positive, so this might be the case (?)"
   ]
  },
  {
   "cell_type": "markdown",
   "metadata": {},
   "source": [
    "##Section 5. Reflection\n",
    "### 5.1 Please discuss potential shortcomings of the methods of your analysis, including:\n",
    "#### 5.11 The dataset: Rain doesn't always affect people's entire days. One could perhaps improve the accuracy of the analysis by distinguishing between whether it rained withing the given 4-hour period of time in stead of the entire day, and do the same thing for the other collected values. \n",
    "#### 5.12 Analysis: As revealed by the negative coefficient for rain, some analysis should have been done looking at correlation for different values. Linear regression doesn't reveal correlation, for example low temperature and rain together might be a deadly combination. One way to do this could be to add a new variable for when it's fog and rain on the same day. Let's investigate!\n"
   ]
  },
  {
   "cell_type": "code",
   "execution_count": 240,
   "metadata": {
    "collapsed": false
   },
   "outputs": [
    {
     "name": "stdout",
     "output_type": "stream",
     "text": [
      "The results with fograin included\n",
      "fograin     -875.252650\n",
      "fog           17.185353\n",
      "rain         143.431968\n",
      "hour         123.515822\n",
      "meantempi    -11.808344\n",
      "dtype: float64\n",
      "Original results without fograin\n",
      "fog         -706.942842\n",
      "rain         137.051521\n",
      "hour         123.452232\n",
      "meantempi    -11.689221\n",
      "dtype: float64\n"
     ]
    }
   ],
   "source": [
    "def linear_regression(features, values):\n",
    "    \n",
    "    features = sm.add_constant(features)\n",
    "    model = sm.OLS(values, features)\n",
    "    results = model.fit()\n",
    "    intercept = results.params[0]\n",
    "    params = results.params[1:]\n",
    "    \n",
    "    return intercept, params\n",
    "\n",
    "d = data\n",
    "d['fograin'] = 0\n",
    "# Make sure fograin is always one when there's both rain and fog\n",
    "d.loc[( (d['rain'] == 1) & (d['fog'] == 1)),'fograin'] = 1\n",
    "\n",
    "#Select features to compare weight of different features\n",
    "features1 = d[['fograin','fog','rain','hour','meantempi']]\n",
    "features2 = d[['fog','rain','hour','meantempi']]\n",
    "dummy_units = pd.get_dummies(d['UNIT'], prefix='unit')\n",
    "\n",
    "features1 = features1.join(dummy_units)\n",
    "features2 = features2.join(dummy_units)\n",
    "\n",
    "\n",
    "# Values\n",
    "values = d['ENTRIESn_hourly']\n",
    "\n",
    "# Perform linear regression\n",
    "intercept1, params1 = linear_regression(features1, values)\n",
    "intercept2, params2 = linear_regression(features2, values)\n",
    "\n",
    "#Print weights\n",
    "print \"The results with fograin included\"\n",
    "print params1[:5]\n",
    "print \"Original results without fograin\"\n",
    "print params2[:4]"
   ]
  },
  {
   "cell_type": "markdown",
   "metadata": {},
   "source": [
    "#### Comparing these two sets of thetas, we can see that the addition of fograin makes the contribution from fog to the prediction almost disappear. The second result is, however, different from what was shown in the web compiler over at udacity. I'm unable to explain why that is, since I just copy-pasted the code. It's more in line with what you would expect though: rain is a positive contribution to the average ridership, while fog (or fograin for that matter) surprisingly is very negative."
   ]
  }
 ],
 "metadata": {
  "kernelspec": {
   "display_name": "Python 2",
   "language": "python",
   "name": "python2"
  },
  "language_info": {
   "codemirror_mode": {
    "name": "ipython",
    "version": 2
   },
   "file_extension": ".py",
   "mimetype": "text/x-python",
   "name": "python",
   "nbconvert_exporter": "python",
   "pygments_lexer": "ipython2",
   "version": "2.7.10"
  }
 },
 "nbformat": 4,
 "nbformat_minor": 0
}
